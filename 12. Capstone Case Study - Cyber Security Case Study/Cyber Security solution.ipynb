{
 "cells": [
  {
   "cell_type": "markdown",
   "id": "01584006-c496-4266-975a-98f6382df2a3",
   "metadata": {},
   "source": [
    "### Import all the libraries"
   ]
  },
  {
   "cell_type": "code",
   "execution_count": 125,
   "id": "e1bc9d5e-a5d5-4a75-8844-f68532640f45",
   "metadata": {},
   "outputs": [],
   "source": [
    "import numpy as np\n",
    "import pandas as pd\n",
    "import seaborn as sns\n",
    "from sklearn.model_selection import train_test_split\n",
    "from sklearn.preprocessing import LabelEncoder, StandardScaler\n",
    "from sklearn.metrics import accuracy_score, precision_score, recall_score, classification_report\n",
    "from sklearn.tree import DecisionTreeClassifier\n",
    "import warnings\n",
    "import matplotlib.pyplot as plt\n",
    "warnings.filterwarnings(\"ignore\")\n",
    "from sklearn.linear_model import LogisticRegression"
   ]
  },
  {
   "cell_type": "markdown",
   "id": "bb088459-222d-4c7d-a9c0-275c29e4591d",
   "metadata": {},
   "source": [
    "### import all the files"
   ]
  },
  {
   "cell_type": "code",
   "execution_count": 60,
   "id": "9f4b6f3b-4fc7-4c54-a513-49b82a6b34a9",
   "metadata": {},
   "outputs": [],
   "source": [
    "D_1 = pd.read_csv('Data_of_Attack_Back.csv')\n",
    "D_2 = pd.read_csv('Data_of_Attack_Back_BufferOverflow.csv')\n",
    "D_3 = pd.read_csv('Data_of_Attack_Back_FTPWrite.csv')\n",
    "D_4 = pd.read_csv('Data_of_Attack_Back_GuessPassword.csv')\n",
    "D_5 = pd.read_csv('Data_of_Attack_Back_Neptune.csv')\n",
    "D_6 = pd.read_csv('Data_of_Attack_Back_NMap.csv')\n",
    "D_7 = pd.read_csv('Data_of_Attack_Back_Normal.csv')\n",
    "D_8 = pd.read_csv('Data_of_Attack_Back_PortSweep.csv')\n",
    "D_9 = pd.read_csv('Data_of_Attack_Back_RootKit.csv')\n",
    "D_10 = pd.read_csv('Data_of_Attack_Back_Satan.csv')\n",
    "D_11 = pd.read_csv('Data_of_Attack_Back_Smurf.csv')"
   ]
  },
  {
   "cell_type": "code",
   "execution_count": 61,
   "id": "dc998ed5-15fb-4b32-8b53-c8a7066fc41c",
   "metadata": {},
   "outputs": [
    {
     "data": {
      "text/html": [
       "<div>\n",
       "<style scoped>\n",
       "    .dataframe tbody tr th:only-of-type {\n",
       "        vertical-align: middle;\n",
       "    }\n",
       "\n",
       "    .dataframe tbody tr th {\n",
       "        vertical-align: top;\n",
       "    }\n",
       "\n",
       "    .dataframe thead th {\n",
       "        text-align: right;\n",
       "    }\n",
       "</style>\n",
       "<table border=\"1\" class=\"dataframe\">\n",
       "  <thead>\n",
       "    <tr style=\"text-align: right;\">\n",
       "      <th></th>\n",
       "      <th>duration</th>\n",
       "      <th>protocol_type</th>\n",
       "      <th>service</th>\n",
       "      <th>flag</th>\n",
       "      <th>src_bytes</th>\n",
       "      <th>dst_bytes</th>\n",
       "      <th>land</th>\n",
       "      <th>wrong_fragment</th>\n",
       "      <th>urgent</th>\n",
       "      <th>hot</th>\n",
       "      <th>...</th>\n",
       "      <th>dst_host_count</th>\n",
       "      <th>dst_host_srv_count</th>\n",
       "      <th>dst_host_same_srv_rate</th>\n",
       "      <th>dst_host_diff_srv_rate</th>\n",
       "      <th>dst_host_same_src_port_rate</th>\n",
       "      <th>dst_host_srv_diff_host_rate</th>\n",
       "      <th>dst_host_serror_rate</th>\n",
       "      <th>dst_host_srv_serror_rate</th>\n",
       "      <th>dst_host_rerror_rate</th>\n",
       "      <th>dst_host_srv_rerror_rate</th>\n",
       "    </tr>\n",
       "  </thead>\n",
       "  <tbody>\n",
       "    <tr>\n",
       "      <th>0</th>\n",
       "      <td>0.0</td>\n",
       "      <td>0</td>\n",
       "      <td>0</td>\n",
       "      <td>0.0</td>\n",
       "      <td>0.5454</td>\n",
       "      <td>0.08314</td>\n",
       "      <td>0</td>\n",
       "      <td>0</td>\n",
       "      <td>0</td>\n",
       "      <td>0.2</td>\n",
       "      <td>...</td>\n",
       "      <td>0.001</td>\n",
       "      <td>0.001</td>\n",
       "      <td>0.1</td>\n",
       "      <td>0</td>\n",
       "      <td>0.1</td>\n",
       "      <td>0</td>\n",
       "      <td>0.0</td>\n",
       "      <td>0.0</td>\n",
       "      <td>0.0</td>\n",
       "      <td>0.0</td>\n",
       "    </tr>\n",
       "  </tbody>\n",
       "</table>\n",
       "<p>1 rows × 41 columns</p>\n",
       "</div>"
      ],
      "text/plain": [
       "   duration   protocol_type   service   flag   src_bytes   dst_bytes   land  \\\n",
       "0       0.0               0         0    0.0      0.5454     0.08314      0   \n",
       "\n",
       "    wrong_fragment   urgent   hot  ...   dst_host_count   dst_host_srv_count  \\\n",
       "0                0        0   0.2  ...            0.001                0.001   \n",
       "\n",
       "    dst_host_same_srv_rate   dst_host_diff_srv_rate  \\\n",
       "0                      0.1                        0   \n",
       "\n",
       "    dst_host_same_src_port_rate   dst_host_srv_diff_host_rate  \\\n",
       "0                           0.1                             0   \n",
       "\n",
       "    dst_host_serror_rate   dst_host_srv_serror_rate   dst_host_rerror_rate  \\\n",
       "0                    0.0                        0.0                    0.0   \n",
       "\n",
       "    dst_host_srv_rerror_rate  \n",
       "0                        0.0  \n",
       "\n",
       "[1 rows x 41 columns]"
      ]
     },
     "execution_count": 61,
     "metadata": {},
     "output_type": "execute_result"
    }
   ],
   "source": [
    "D_1.head(1)"
   ]
  },
  {
   "cell_type": "code",
   "execution_count": 62,
   "id": "dd83a179-a3c1-48c0-a793-32455df3351e",
   "metadata": {},
   "outputs": [
    {
     "data": {
      "text/html": [
       "<div>\n",
       "<style scoped>\n",
       "    .dataframe tbody tr th:only-of-type {\n",
       "        vertical-align: middle;\n",
       "    }\n",
       "\n",
       "    .dataframe tbody tr th {\n",
       "        vertical-align: top;\n",
       "    }\n",
       "\n",
       "    .dataframe thead th {\n",
       "        text-align: right;\n",
       "    }\n",
       "</style>\n",
       "<table border=\"1\" class=\"dataframe\">\n",
       "  <thead>\n",
       "    <tr style=\"text-align: right;\">\n",
       "      <th></th>\n",
       "      <th>duration</th>\n",
       "      <th>protocol_type</th>\n",
       "      <th>service</th>\n",
       "      <th>flag</th>\n",
       "      <th>src_bytes</th>\n",
       "      <th>dst_bytes</th>\n",
       "      <th>land</th>\n",
       "      <th>wrong_fragment</th>\n",
       "      <th>urgent</th>\n",
       "      <th>hot</th>\n",
       "      <th>...</th>\n",
       "      <th>dst_host_count</th>\n",
       "      <th>dst_host_srv_count</th>\n",
       "      <th>dst_host_same_srv_rate</th>\n",
       "      <th>dst_host_diff_srv_rate</th>\n",
       "      <th>dst_host_same_src_port_rate</th>\n",
       "      <th>dst_host_srv_diff_host_rate</th>\n",
       "      <th>dst_host_serror_rate</th>\n",
       "      <th>dst_host_srv_serror_rate</th>\n",
       "      <th>dst_host_rerror_rate</th>\n",
       "      <th>dst_host_srv_rerror_rate</th>\n",
       "    </tr>\n",
       "  </thead>\n",
       "  <tbody>\n",
       "    <tr>\n",
       "      <th>0</th>\n",
       "      <td>0.0184</td>\n",
       "      <td>0</td>\n",
       "      <td>0.05</td>\n",
       "      <td>0.0</td>\n",
       "      <td>0.01511</td>\n",
       "      <td>0.02957</td>\n",
       "      <td>0</td>\n",
       "      <td>0</td>\n",
       "      <td>0</td>\n",
       "      <td>0.3</td>\n",
       "      <td>...</td>\n",
       "      <td>0.001</td>\n",
       "      <td>0.003</td>\n",
       "      <td>0.1</td>\n",
       "      <td>0</td>\n",
       "      <td>0.1</td>\n",
       "      <td>0.067</td>\n",
       "      <td>0</td>\n",
       "      <td>0</td>\n",
       "      <td>0.0</td>\n",
       "      <td>0.0</td>\n",
       "    </tr>\n",
       "  </tbody>\n",
       "</table>\n",
       "<p>1 rows × 41 columns</p>\n",
       "</div>"
      ],
      "text/plain": [
       "   duration   protocol_type   service   flag   src_bytes   dst_bytes   land  \\\n",
       "0    0.0184               0      0.05    0.0     0.01511     0.02957      0   \n",
       "\n",
       "    wrong_fragment   urgent   hot  ...   dst_host_count   dst_host_srv_count  \\\n",
       "0                0        0   0.3  ...            0.001                0.003   \n",
       "\n",
       "    dst_host_same_srv_rate   dst_host_diff_srv_rate  \\\n",
       "0                      0.1                        0   \n",
       "\n",
       "    dst_host_same_src_port_rate   dst_host_srv_diff_host_rate  \\\n",
       "0                           0.1                         0.067   \n",
       "\n",
       "    dst_host_serror_rate   dst_host_srv_serror_rate   dst_host_rerror_rate  \\\n",
       "0                      0                          0                    0.0   \n",
       "\n",
       "    dst_host_srv_rerror_rate  \n",
       "0                        0.0  \n",
       "\n",
       "[1 rows x 41 columns]"
      ]
     },
     "execution_count": 62,
     "metadata": {},
     "output_type": "execute_result"
    }
   ],
   "source": [
    "D_2.head(1)"
   ]
  },
  {
   "cell_type": "code",
   "execution_count": 63,
   "id": "43467b51-89b2-4ef4-bdcb-5ecac7ff7462",
   "metadata": {},
   "outputs": [
    {
     "data": {
      "text/html": [
       "<div>\n",
       "<style scoped>\n",
       "    .dataframe tbody tr th:only-of-type {\n",
       "        vertical-align: middle;\n",
       "    }\n",
       "\n",
       "    .dataframe tbody tr th {\n",
       "        vertical-align: top;\n",
       "    }\n",
       "\n",
       "    .dataframe thead th {\n",
       "        text-align: right;\n",
       "    }\n",
       "</style>\n",
       "<table border=\"1\" class=\"dataframe\">\n",
       "  <thead>\n",
       "    <tr style=\"text-align: right;\">\n",
       "      <th></th>\n",
       "      <th>duration</th>\n",
       "      <th>protocol_type</th>\n",
       "      <th>service</th>\n",
       "      <th>flag</th>\n",
       "      <th>src_bytes</th>\n",
       "      <th>dst_bytes</th>\n",
       "      <th>land</th>\n",
       "      <th>wrong_fragment</th>\n",
       "      <th>urgent</th>\n",
       "      <th>hot</th>\n",
       "      <th>...</th>\n",
       "      <th>dst_host_count</th>\n",
       "      <th>dst_host_srv_count</th>\n",
       "      <th>dst_host_same_srv_rate</th>\n",
       "      <th>dst_host_diff_srv_rate</th>\n",
       "      <th>dst_host_same_src_port_rate</th>\n",
       "      <th>dst_host_srv_diff_host_rate</th>\n",
       "      <th>dst_host_serror_rate</th>\n",
       "      <th>dst_host_srv_serror_rate</th>\n",
       "      <th>dst_host_rerror_rate</th>\n",
       "      <th>dst_host_srv_rerror_rate</th>\n",
       "    </tr>\n",
       "  </thead>\n",
       "  <tbody>\n",
       "    <tr>\n",
       "      <th>0</th>\n",
       "      <td>0.0026</td>\n",
       "      <td>0</td>\n",
       "      <td>0.07</td>\n",
       "      <td>0</td>\n",
       "      <td>0.00116</td>\n",
       "      <td>0.00451</td>\n",
       "      <td>0</td>\n",
       "      <td>0</td>\n",
       "      <td>0.0</td>\n",
       "      <td>0.2</td>\n",
       "      <td>...</td>\n",
       "      <td>0.001</td>\n",
       "      <td>0.001</td>\n",
       "      <td>0.1</td>\n",
       "      <td>0.0</td>\n",
       "      <td>0.1</td>\n",
       "      <td>0.0</td>\n",
       "      <td>0</td>\n",
       "      <td>0</td>\n",
       "      <td>0</td>\n",
       "      <td>0</td>\n",
       "    </tr>\n",
       "  </tbody>\n",
       "</table>\n",
       "<p>1 rows × 41 columns</p>\n",
       "</div>"
      ],
      "text/plain": [
       "   duration   protocol_type   service   flag   src_bytes   dst_bytes   land  \\\n",
       "0    0.0026               0      0.07      0     0.00116     0.00451      0   \n",
       "\n",
       "    wrong_fragment   urgent   hot  ...   dst_host_count   dst_host_srv_count  \\\n",
       "0                0      0.0   0.2  ...            0.001                0.001   \n",
       "\n",
       "    dst_host_same_srv_rate   dst_host_diff_srv_rate  \\\n",
       "0                      0.1                      0.0   \n",
       "\n",
       "    dst_host_same_src_port_rate   dst_host_srv_diff_host_rate  \\\n",
       "0                           0.1                           0.0   \n",
       "\n",
       "    dst_host_serror_rate   dst_host_srv_serror_rate   dst_host_rerror_rate  \\\n",
       "0                      0                          0                      0   \n",
       "\n",
       "    dst_host_srv_rerror_rate  \n",
       "0                          0  \n",
       "\n",
       "[1 rows x 41 columns]"
      ]
     },
     "execution_count": 63,
     "metadata": {},
     "output_type": "execute_result"
    }
   ],
   "source": [
    "D_3.head(1)"
   ]
  },
  {
   "cell_type": "code",
   "execution_count": 64,
   "id": "23645168-b69a-4f2b-9f65-92c7a9e6f20f",
   "metadata": {},
   "outputs": [
    {
     "data": {
      "text/html": [
       "<div>\n",
       "<style scoped>\n",
       "    .dataframe tbody tr th:only-of-type {\n",
       "        vertical-align: middle;\n",
       "    }\n",
       "\n",
       "    .dataframe tbody tr th {\n",
       "        vertical-align: top;\n",
       "    }\n",
       "\n",
       "    .dataframe thead th {\n",
       "        text-align: right;\n",
       "    }\n",
       "</style>\n",
       "<table border=\"1\" class=\"dataframe\">\n",
       "  <thead>\n",
       "    <tr style=\"text-align: right;\">\n",
       "      <th></th>\n",
       "      <th>duration</th>\n",
       "      <th>protocol_type</th>\n",
       "      <th>service</th>\n",
       "      <th>flag</th>\n",
       "      <th>src_bytes</th>\n",
       "      <th>dst_bytes</th>\n",
       "      <th>land</th>\n",
       "      <th>wrong_fragment</th>\n",
       "      <th>urgent</th>\n",
       "      <th>hot</th>\n",
       "      <th>...</th>\n",
       "      <th>dst_host_count</th>\n",
       "      <th>dst_host_srv_count</th>\n",
       "      <th>dst_host_same_srv_rate</th>\n",
       "      <th>dst_host_diff_srv_rate</th>\n",
       "      <th>dst_host_same_src_port_rate</th>\n",
       "      <th>dst_host_srv_diff_host_rate</th>\n",
       "      <th>dst_host_serror_rate</th>\n",
       "      <th>dst_host_srv_serror_rate</th>\n",
       "      <th>dst_host_rerror_rate</th>\n",
       "      <th>dst_host_srv_rerror_rate</th>\n",
       "    </tr>\n",
       "  </thead>\n",
       "  <tbody>\n",
       "    <tr>\n",
       "      <th>0</th>\n",
       "      <td>0.0023</td>\n",
       "      <td>0</td>\n",
       "      <td>0.05</td>\n",
       "      <td>0.0</td>\n",
       "      <td>0.00104</td>\n",
       "      <td>0.00276</td>\n",
       "      <td>0</td>\n",
       "      <td>0</td>\n",
       "      <td>0</td>\n",
       "      <td>0.0</td>\n",
       "      <td>...</td>\n",
       "      <td>0.001</td>\n",
       "      <td>0.002</td>\n",
       "      <td>0.1</td>\n",
       "      <td>0</td>\n",
       "      <td>0.1</td>\n",
       "      <td>0.1</td>\n",
       "      <td>0.0</td>\n",
       "      <td>0.0</td>\n",
       "      <td>0.0</td>\n",
       "      <td>0.0</td>\n",
       "    </tr>\n",
       "  </tbody>\n",
       "</table>\n",
       "<p>1 rows × 41 columns</p>\n",
       "</div>"
      ],
      "text/plain": [
       "   duration   protocol_type   service   flag   src_bytes   dst_bytes   land  \\\n",
       "0    0.0023               0      0.05    0.0     0.00104     0.00276      0   \n",
       "\n",
       "    wrong_fragment   urgent   hot  ...   dst_host_count   dst_host_srv_count  \\\n",
       "0                0        0   0.0  ...            0.001                0.002   \n",
       "\n",
       "    dst_host_same_srv_rate   dst_host_diff_srv_rate  \\\n",
       "0                      0.1                        0   \n",
       "\n",
       "    dst_host_same_src_port_rate   dst_host_srv_diff_host_rate  \\\n",
       "0                           0.1                           0.1   \n",
       "\n",
       "    dst_host_serror_rate   dst_host_srv_serror_rate   dst_host_rerror_rate  \\\n",
       "0                    0.0                        0.0                    0.0   \n",
       "\n",
       "    dst_host_srv_rerror_rate  \n",
       "0                        0.0  \n",
       "\n",
       "[1 rows x 41 columns]"
      ]
     },
     "execution_count": 64,
     "metadata": {},
     "output_type": "execute_result"
    }
   ],
   "source": [
    "D_4.head(1)"
   ]
  },
  {
   "cell_type": "code",
   "execution_count": 65,
   "id": "61fcc6a5-2409-49f3-b0da-966ae46b1b7b",
   "metadata": {},
   "outputs": [
    {
     "data": {
      "text/html": [
       "<div>\n",
       "<style scoped>\n",
       "    .dataframe tbody tr th:only-of-type {\n",
       "        vertical-align: middle;\n",
       "    }\n",
       "\n",
       "    .dataframe tbody tr th {\n",
       "        vertical-align: top;\n",
       "    }\n",
       "\n",
       "    .dataframe thead th {\n",
       "        text-align: right;\n",
       "    }\n",
       "</style>\n",
       "<table border=\"1\" class=\"dataframe\">\n",
       "  <thead>\n",
       "    <tr style=\"text-align: right;\">\n",
       "      <th></th>\n",
       "      <th>duration</th>\n",
       "      <th>protocol_type</th>\n",
       "      <th>service</th>\n",
       "      <th>flag</th>\n",
       "      <th>src_bytes</th>\n",
       "      <th>dst_bytes</th>\n",
       "      <th>land</th>\n",
       "      <th>wrong_fragment</th>\n",
       "      <th>urgent</th>\n",
       "      <th>hot</th>\n",
       "      <th>...</th>\n",
       "      <th>dst_host_count</th>\n",
       "      <th>dst_host_srv_count</th>\n",
       "      <th>dst_host_same_srv_rate</th>\n",
       "      <th>dst_host_diff_srv_rate</th>\n",
       "      <th>dst_host_same_src_port_rate</th>\n",
       "      <th>dst_host_srv_diff_host_rate</th>\n",
       "      <th>dst_host_serror_rate</th>\n",
       "      <th>dst_host_srv_serror_rate</th>\n",
       "      <th>dst_host_rerror_rate</th>\n",
       "      <th>dst_host_srv_rerror_rate</th>\n",
       "    </tr>\n",
       "  </thead>\n",
       "  <tbody>\n",
       "    <tr>\n",
       "      <th>0</th>\n",
       "      <td>0.0</td>\n",
       "      <td>0</td>\n",
       "      <td>0.05</td>\n",
       "      <td>0.07</td>\n",
       "      <td>0.0</td>\n",
       "      <td>0.0</td>\n",
       "      <td>0</td>\n",
       "      <td>0</td>\n",
       "      <td>0</td>\n",
       "      <td>0</td>\n",
       "      <td>...</td>\n",
       "      <td>0.001</td>\n",
       "      <td>0.002</td>\n",
       "      <td>0.1</td>\n",
       "      <td>0.0</td>\n",
       "      <td>0.1</td>\n",
       "      <td>0.1</td>\n",
       "      <td>0.1</td>\n",
       "      <td>0.05</td>\n",
       "      <td>0.0</td>\n",
       "      <td>0.0</td>\n",
       "    </tr>\n",
       "  </tbody>\n",
       "</table>\n",
       "<p>1 rows × 41 columns</p>\n",
       "</div>"
      ],
      "text/plain": [
       "   duration   protocol_type   service   flag   src_bytes   dst_bytes   land  \\\n",
       "0       0.0               0      0.05   0.07         0.0         0.0      0   \n",
       "\n",
       "    wrong_fragment   urgent   hot  ...   dst_host_count   dst_host_srv_count  \\\n",
       "0                0        0     0  ...            0.001                0.002   \n",
       "\n",
       "    dst_host_same_srv_rate   dst_host_diff_srv_rate  \\\n",
       "0                      0.1                      0.0   \n",
       "\n",
       "    dst_host_same_src_port_rate   dst_host_srv_diff_host_rate  \\\n",
       "0                           0.1                           0.1   \n",
       "\n",
       "    dst_host_serror_rate   dst_host_srv_serror_rate   dst_host_rerror_rate  \\\n",
       "0                    0.1                       0.05                    0.0   \n",
       "\n",
       "    dst_host_srv_rerror_rate  \n",
       "0                        0.0  \n",
       "\n",
       "[1 rows x 41 columns]"
      ]
     },
     "execution_count": 65,
     "metadata": {},
     "output_type": "execute_result"
    }
   ],
   "source": [
    "D_5.head(1)"
   ]
  },
  {
   "cell_type": "code",
   "execution_count": 66,
   "id": "350a5e5f-35a5-4054-b05f-0db2e9d1e9f3",
   "metadata": {},
   "outputs": [
    {
     "data": {
      "text/html": [
       "<div>\n",
       "<style scoped>\n",
       "    .dataframe tbody tr th:only-of-type {\n",
       "        vertical-align: middle;\n",
       "    }\n",
       "\n",
       "    .dataframe tbody tr th {\n",
       "        vertical-align: top;\n",
       "    }\n",
       "\n",
       "    .dataframe thead th {\n",
       "        text-align: right;\n",
       "    }\n",
       "</style>\n",
       "<table border=\"1\" class=\"dataframe\">\n",
       "  <thead>\n",
       "    <tr style=\"text-align: right;\">\n",
       "      <th></th>\n",
       "      <th>duration</th>\n",
       "      <th>protocol_type</th>\n",
       "      <th>service</th>\n",
       "      <th>flag</th>\n",
       "      <th>src_bytes</th>\n",
       "      <th>dst_bytes</th>\n",
       "      <th>land</th>\n",
       "      <th>wrong_fragment</th>\n",
       "      <th>urgent</th>\n",
       "      <th>hot</th>\n",
       "      <th>...</th>\n",
       "      <th>dst_host_count</th>\n",
       "      <th>dst_host_srv_count</th>\n",
       "      <th>dst_host_same_srv_rate</th>\n",
       "      <th>dst_host_diff_srv_rate</th>\n",
       "      <th>dst_host_same_src_port_rate</th>\n",
       "      <th>dst_host_srv_diff_host_rate</th>\n",
       "      <th>dst_host_serror_rate</th>\n",
       "      <th>dst_host_srv_serror_rate</th>\n",
       "      <th>dst_host_rerror_rate</th>\n",
       "      <th>dst_host_srv_rerror_rate</th>\n",
       "    </tr>\n",
       "  </thead>\n",
       "  <tbody>\n",
       "    <tr>\n",
       "      <th>0</th>\n",
       "      <td>0</td>\n",
       "      <td>0.02</td>\n",
       "      <td>0.06</td>\n",
       "      <td>0.0</td>\n",
       "      <td>0.00008</td>\n",
       "      <td>0.0</td>\n",
       "      <td>0</td>\n",
       "      <td>0</td>\n",
       "      <td>0</td>\n",
       "      <td>0</td>\n",
       "      <td>...</td>\n",
       "      <td>0.003</td>\n",
       "      <td>0.001</td>\n",
       "      <td>0.033</td>\n",
       "      <td>0.1</td>\n",
       "      <td>0.033</td>\n",
       "      <td>0.0</td>\n",
       "      <td>0.0</td>\n",
       "      <td>0.0</td>\n",
       "      <td>0</td>\n",
       "      <td>0</td>\n",
       "    </tr>\n",
       "  </tbody>\n",
       "</table>\n",
       "<p>1 rows × 41 columns</p>\n",
       "</div>"
      ],
      "text/plain": [
       "   duration   protocol_type   service   flag   src_bytes   dst_bytes   land  \\\n",
       "0         0            0.02      0.06    0.0     0.00008         0.0      0   \n",
       "\n",
       "    wrong_fragment   urgent   hot  ...   dst_host_count   dst_host_srv_count  \\\n",
       "0                0        0     0  ...            0.003                0.001   \n",
       "\n",
       "    dst_host_same_srv_rate   dst_host_diff_srv_rate  \\\n",
       "0                    0.033                      0.1   \n",
       "\n",
       "    dst_host_same_src_port_rate   dst_host_srv_diff_host_rate  \\\n",
       "0                         0.033                           0.0   \n",
       "\n",
       "    dst_host_serror_rate   dst_host_srv_serror_rate   dst_host_rerror_rate  \\\n",
       "0                    0.0                        0.0                      0   \n",
       "\n",
       "    dst_host_srv_rerror_rate  \n",
       "0                          0  \n",
       "\n",
       "[1 rows x 41 columns]"
      ]
     },
     "execution_count": 66,
     "metadata": {},
     "output_type": "execute_result"
    }
   ],
   "source": [
    "D_6.head(1)"
   ]
  },
  {
   "cell_type": "code",
   "execution_count": 67,
   "id": "ced4fb35-b512-4117-a6f1-76318f4eff4a",
   "metadata": {},
   "outputs": [
    {
     "data": {
      "text/html": [
       "<div>\n",
       "<style scoped>\n",
       "    .dataframe tbody tr th:only-of-type {\n",
       "        vertical-align: middle;\n",
       "    }\n",
       "\n",
       "    .dataframe tbody tr th {\n",
       "        vertical-align: top;\n",
       "    }\n",
       "\n",
       "    .dataframe thead th {\n",
       "        text-align: right;\n",
       "    }\n",
       "</style>\n",
       "<table border=\"1\" class=\"dataframe\">\n",
       "  <thead>\n",
       "    <tr style=\"text-align: right;\">\n",
       "      <th></th>\n",
       "      <th>duration</th>\n",
       "      <th>protocol_type</th>\n",
       "      <th>service</th>\n",
       "      <th>flag</th>\n",
       "      <th>src_bytes</th>\n",
       "      <th>dst_bytes</th>\n",
       "      <th>land</th>\n",
       "      <th>wrong_fragment</th>\n",
       "      <th>urgent</th>\n",
       "      <th>hot</th>\n",
       "      <th>...</th>\n",
       "      <th>dst_host_count</th>\n",
       "      <th>dst_host_srv_count</th>\n",
       "      <th>dst_host_same_srv_rate</th>\n",
       "      <th>dst_host_diff_srv_rate</th>\n",
       "      <th>dst_host_same_src_port_rate</th>\n",
       "      <th>dst_host_srv_diff_host_rate</th>\n",
       "      <th>dst_host_serror_rate</th>\n",
       "      <th>dst_host_srv_serror_rate</th>\n",
       "      <th>dst_host_rerror_rate</th>\n",
       "      <th>dst_host_srv_rerror_rate</th>\n",
       "    </tr>\n",
       "  </thead>\n",
       "  <tbody>\n",
       "    <tr>\n",
       "      <th>0</th>\n",
       "      <td>0.0</td>\n",
       "      <td>0.0</td>\n",
       "      <td>0.0</td>\n",
       "      <td>0.0</td>\n",
       "      <td>0.00215</td>\n",
       "      <td>0.45076</td>\n",
       "      <td>0</td>\n",
       "      <td>0</td>\n",
       "      <td>0.0</td>\n",
       "      <td>0.0</td>\n",
       "      <td>...</td>\n",
       "      <td>0.0</td>\n",
       "      <td>0.0</td>\n",
       "      <td>0.0</td>\n",
       "      <td>0.0</td>\n",
       "      <td>0.0</td>\n",
       "      <td>0.0</td>\n",
       "      <td>0.0</td>\n",
       "      <td>0.0</td>\n",
       "      <td>0.0</td>\n",
       "      <td>0.0</td>\n",
       "    </tr>\n",
       "  </tbody>\n",
       "</table>\n",
       "<p>1 rows × 41 columns</p>\n",
       "</div>"
      ],
      "text/plain": [
       "   duration   protocol_type   service   flag   src_bytes   dst_bytes   land  \\\n",
       "0       0.0             0.0       0.0    0.0     0.00215     0.45076      0   \n",
       "\n",
       "    wrong_fragment   urgent   hot  ...   dst_host_count   dst_host_srv_count  \\\n",
       "0                0      0.0   0.0  ...              0.0                  0.0   \n",
       "\n",
       "    dst_host_same_srv_rate   dst_host_diff_srv_rate  \\\n",
       "0                      0.0                      0.0   \n",
       "\n",
       "    dst_host_same_src_port_rate   dst_host_srv_diff_host_rate  \\\n",
       "0                           0.0                           0.0   \n",
       "\n",
       "    dst_host_serror_rate   dst_host_srv_serror_rate   dst_host_rerror_rate  \\\n",
       "0                    0.0                        0.0                    0.0   \n",
       "\n",
       "    dst_host_srv_rerror_rate  \n",
       "0                        0.0  \n",
       "\n",
       "[1 rows x 41 columns]"
      ]
     },
     "execution_count": 67,
     "metadata": {},
     "output_type": "execute_result"
    }
   ],
   "source": [
    "D_7.head(1)"
   ]
  },
  {
   "cell_type": "code",
   "execution_count": 68,
   "id": "9a71ccc3-364f-4fef-86c5-12f1ab8e032a",
   "metadata": {},
   "outputs": [
    {
     "data": {
      "text/html": [
       "<div>\n",
       "<style scoped>\n",
       "    .dataframe tbody tr th:only-of-type {\n",
       "        vertical-align: middle;\n",
       "    }\n",
       "\n",
       "    .dataframe tbody tr th {\n",
       "        vertical-align: top;\n",
       "    }\n",
       "\n",
       "    .dataframe thead th {\n",
       "        text-align: right;\n",
       "    }\n",
       "</style>\n",
       "<table border=\"1\" class=\"dataframe\">\n",
       "  <thead>\n",
       "    <tr style=\"text-align: right;\">\n",
       "      <th></th>\n",
       "      <th>duration</th>\n",
       "      <th>protocol_type</th>\n",
       "      <th>service</th>\n",
       "      <th>flag</th>\n",
       "      <th>src_bytes</th>\n",
       "      <th>dst_bytes</th>\n",
       "      <th>land</th>\n",
       "      <th>wrong_fragment</th>\n",
       "      <th>urgent</th>\n",
       "      <th>hot</th>\n",
       "      <th>...</th>\n",
       "      <th>dst_host_count</th>\n",
       "      <th>dst_host_srv_count</th>\n",
       "      <th>dst_host_same_srv_rate</th>\n",
       "      <th>dst_host_diff_srv_rate</th>\n",
       "      <th>dst_host_same_src_port_rate</th>\n",
       "      <th>dst_host_srv_diff_host_rate</th>\n",
       "      <th>dst_host_serror_rate</th>\n",
       "      <th>dst_host_srv_serror_rate</th>\n",
       "      <th>dst_host_rerror_rate</th>\n",
       "      <th>dst_host_srv_rerror_rate</th>\n",
       "    </tr>\n",
       "  </thead>\n",
       "  <tbody>\n",
       "    <tr>\n",
       "      <th>0</th>\n",
       "      <td>0.0</td>\n",
       "      <td>0.0</td>\n",
       "      <td>0.14</td>\n",
       "      <td>0.05</td>\n",
       "      <td>0.0</td>\n",
       "      <td>0.0</td>\n",
       "      <td>0</td>\n",
       "      <td>0</td>\n",
       "      <td>0</td>\n",
       "      <td>0.0</td>\n",
       "      <td>...</td>\n",
       "      <td>0.171</td>\n",
       "      <td>0.062</td>\n",
       "      <td>0.027</td>\n",
       "      <td>0.002</td>\n",
       "      <td>0.001</td>\n",
       "      <td>0.003</td>\n",
       "      <td>0.001</td>\n",
       "      <td>0.0</td>\n",
       "      <td>0.029</td>\n",
       "      <td>0.002</td>\n",
       "    </tr>\n",
       "  </tbody>\n",
       "</table>\n",
       "<p>1 rows × 41 columns</p>\n",
       "</div>"
      ],
      "text/plain": [
       "   duration   protocol_type   service   flag   src_bytes   dst_bytes   land  \\\n",
       "0       0.0             0.0      0.14   0.05         0.0         0.0      0   \n",
       "\n",
       "    wrong_fragment   urgent   hot  ...   dst_host_count   dst_host_srv_count  \\\n",
       "0                0        0   0.0  ...            0.171                0.062   \n",
       "\n",
       "    dst_host_same_srv_rate   dst_host_diff_srv_rate  \\\n",
       "0                    0.027                    0.002   \n",
       "\n",
       "    dst_host_same_src_port_rate   dst_host_srv_diff_host_rate  \\\n",
       "0                         0.001                         0.003   \n",
       "\n",
       "    dst_host_serror_rate   dst_host_srv_serror_rate   dst_host_rerror_rate  \\\n",
       "0                  0.001                        0.0                  0.029   \n",
       "\n",
       "    dst_host_srv_rerror_rate  \n",
       "0                      0.002  \n",
       "\n",
       "[1 rows x 41 columns]"
      ]
     },
     "execution_count": 68,
     "metadata": {},
     "output_type": "execute_result"
    }
   ],
   "source": [
    "D_8.head(1)"
   ]
  },
  {
   "cell_type": "code",
   "execution_count": 69,
   "id": "a929b08d-531e-4db3-9cd0-9cb2d42fd2e4",
   "metadata": {},
   "outputs": [
    {
     "data": {
      "text/html": [
       "<div>\n",
       "<style scoped>\n",
       "    .dataframe tbody tr th:only-of-type {\n",
       "        vertical-align: middle;\n",
       "    }\n",
       "\n",
       "    .dataframe tbody tr th {\n",
       "        vertical-align: top;\n",
       "    }\n",
       "\n",
       "    .dataframe thead th {\n",
       "        text-align: right;\n",
       "    }\n",
       "</style>\n",
       "<table border=\"1\" class=\"dataframe\">\n",
       "  <thead>\n",
       "    <tr style=\"text-align: right;\">\n",
       "      <th></th>\n",
       "      <th>duration</th>\n",
       "      <th>protocol_type</th>\n",
       "      <th>service</th>\n",
       "      <th>flag</th>\n",
       "      <th>src_bytes</th>\n",
       "      <th>dst_bytes</th>\n",
       "      <th>land</th>\n",
       "      <th>wrong_fragment</th>\n",
       "      <th>urgent</th>\n",
       "      <th>hot</th>\n",
       "      <th>...</th>\n",
       "      <th>dst_host_count</th>\n",
       "      <th>dst_host_srv_count</th>\n",
       "      <th>dst_host_same_srv_rate</th>\n",
       "      <th>dst_host_diff_srv_rate</th>\n",
       "      <th>dst_host_same_src_port_rate</th>\n",
       "      <th>dst_host_srv_diff_host_rate</th>\n",
       "      <th>dst_host_serror_rate</th>\n",
       "      <th>dst_host_srv_serror_rate</th>\n",
       "      <th>dst_host_rerror_rate</th>\n",
       "      <th>dst_host_srv_rerror_rate</th>\n",
       "    </tr>\n",
       "  </thead>\n",
       "  <tbody>\n",
       "    <tr>\n",
       "      <th>0</th>\n",
       "      <td>0.006</td>\n",
       "      <td>0.0</td>\n",
       "      <td>0.05</td>\n",
       "      <td>0</td>\n",
       "      <td>0.00086</td>\n",
       "      <td>0.00183</td>\n",
       "      <td>0</td>\n",
       "      <td>0</td>\n",
       "      <td>0.0</td>\n",
       "      <td>0.0</td>\n",
       "      <td>...</td>\n",
       "      <td>0.255</td>\n",
       "      <td>0.001</td>\n",
       "      <td>0.0</td>\n",
       "      <td>0.002</td>\n",
       "      <td>0.0</td>\n",
       "      <td>0.0</td>\n",
       "      <td>0</td>\n",
       "      <td>0.0</td>\n",
       "      <td>0.0</td>\n",
       "      <td>0.0</td>\n",
       "    </tr>\n",
       "  </tbody>\n",
       "</table>\n",
       "<p>1 rows × 41 columns</p>\n",
       "</div>"
      ],
      "text/plain": [
       "   duration   protocol_type   service   flag   src_bytes   dst_bytes   land  \\\n",
       "0     0.006             0.0      0.05      0     0.00086     0.00183      0   \n",
       "\n",
       "    wrong_fragment   urgent   hot  ...   dst_host_count   dst_host_srv_count  \\\n",
       "0                0      0.0   0.0  ...            0.255                0.001   \n",
       "\n",
       "    dst_host_same_srv_rate   dst_host_diff_srv_rate  \\\n",
       "0                      0.0                    0.002   \n",
       "\n",
       "    dst_host_same_src_port_rate   dst_host_srv_diff_host_rate  \\\n",
       "0                           0.0                           0.0   \n",
       "\n",
       "    dst_host_serror_rate   dst_host_srv_serror_rate   dst_host_rerror_rate  \\\n",
       "0                      0                        0.0                    0.0   \n",
       "\n",
       "    dst_host_srv_rerror_rate  \n",
       "0                        0.0  \n",
       "\n",
       "[1 rows x 41 columns]"
      ]
     },
     "execution_count": 69,
     "metadata": {},
     "output_type": "execute_result"
    }
   ],
   "source": [
    "D_9.head(1)"
   ]
  },
  {
   "cell_type": "code",
   "execution_count": 70,
   "id": "f9feaf4c-5c79-4fa6-9a31-8a506f93665b",
   "metadata": {},
   "outputs": [
    {
     "data": {
      "text/html": [
       "<div>\n",
       "<style scoped>\n",
       "    .dataframe tbody tr th:only-of-type {\n",
       "        vertical-align: middle;\n",
       "    }\n",
       "\n",
       "    .dataframe tbody tr th {\n",
       "        vertical-align: top;\n",
       "    }\n",
       "\n",
       "    .dataframe thead th {\n",
       "        text-align: right;\n",
       "    }\n",
       "</style>\n",
       "<table border=\"1\" class=\"dataframe\">\n",
       "  <thead>\n",
       "    <tr style=\"text-align: right;\">\n",
       "      <th></th>\n",
       "      <th>duration</th>\n",
       "      <th>protocol_type</th>\n",
       "      <th>service</th>\n",
       "      <th>flag</th>\n",
       "      <th>src_bytes</th>\n",
       "      <th>dst_bytes</th>\n",
       "      <th>land</th>\n",
       "      <th>wrong_fragment</th>\n",
       "      <th>urgent</th>\n",
       "      <th>hot</th>\n",
       "      <th>...</th>\n",
       "      <th>dst_host_count</th>\n",
       "      <th>dst_host_srv_count</th>\n",
       "      <th>dst_host_same_srv_rate</th>\n",
       "      <th>dst_host_diff_srv_rate</th>\n",
       "      <th>dst_host_same_src_port_rate</th>\n",
       "      <th>dst_host_srv_diff_host_rate</th>\n",
       "      <th>dst_host_serror_rate</th>\n",
       "      <th>dst_host_srv_serror_rate</th>\n",
       "      <th>dst_host_rerror_rate</th>\n",
       "      <th>dst_host_srv_rerror_rate</th>\n",
       "    </tr>\n",
       "  </thead>\n",
       "  <tbody>\n",
       "    <tr>\n",
       "      <th>0</th>\n",
       "      <td>0.0</td>\n",
       "      <td>0.02</td>\n",
       "      <td>0.06</td>\n",
       "      <td>0.0</td>\n",
       "      <td>0.0002</td>\n",
       "      <td>0.0</td>\n",
       "      <td>0</td>\n",
       "      <td>0</td>\n",
       "      <td>0</td>\n",
       "      <td>0.0</td>\n",
       "      <td>...</td>\n",
       "      <td>0.143</td>\n",
       "      <td>0.001</td>\n",
       "      <td>0.001</td>\n",
       "      <td>0.004</td>\n",
       "      <td>0.001</td>\n",
       "      <td>0.0</td>\n",
       "      <td>0.001</td>\n",
       "      <td>0.0</td>\n",
       "      <td>0.0</td>\n",
       "      <td>0.0</td>\n",
       "    </tr>\n",
       "  </tbody>\n",
       "</table>\n",
       "<p>1 rows × 41 columns</p>\n",
       "</div>"
      ],
      "text/plain": [
       "   duration   protocol_type   service   flag   src_bytes   dst_bytes   land  \\\n",
       "0       0.0            0.02      0.06    0.0      0.0002         0.0      0   \n",
       "\n",
       "    wrong_fragment   urgent   hot  ...   dst_host_count   dst_host_srv_count  \\\n",
       "0                0        0   0.0  ...            0.143                0.001   \n",
       "\n",
       "    dst_host_same_srv_rate   dst_host_diff_srv_rate  \\\n",
       "0                    0.001                    0.004   \n",
       "\n",
       "    dst_host_same_src_port_rate   dst_host_srv_diff_host_rate  \\\n",
       "0                         0.001                           0.0   \n",
       "\n",
       "    dst_host_serror_rate   dst_host_srv_serror_rate   dst_host_rerror_rate  \\\n",
       "0                  0.001                        0.0                    0.0   \n",
       "\n",
       "    dst_host_srv_rerror_rate  \n",
       "0                        0.0  \n",
       "\n",
       "[1 rows x 41 columns]"
      ]
     },
     "execution_count": 70,
     "metadata": {},
     "output_type": "execute_result"
    }
   ],
   "source": [
    "D_10.head(1)"
   ]
  },
  {
   "cell_type": "code",
   "execution_count": 71,
   "id": "5a6ac248-7b76-45f1-8d55-28a9e6da8742",
   "metadata": {},
   "outputs": [
    {
     "data": {
      "text/html": [
       "<div>\n",
       "<style scoped>\n",
       "    .dataframe tbody tr th:only-of-type {\n",
       "        vertical-align: middle;\n",
       "    }\n",
       "\n",
       "    .dataframe tbody tr th {\n",
       "        vertical-align: top;\n",
       "    }\n",
       "\n",
       "    .dataframe thead th {\n",
       "        text-align: right;\n",
       "    }\n",
       "</style>\n",
       "<table border=\"1\" class=\"dataframe\">\n",
       "  <thead>\n",
       "    <tr style=\"text-align: right;\">\n",
       "      <th></th>\n",
       "      <th>duration</th>\n",
       "      <th>protocol_type</th>\n",
       "      <th>service</th>\n",
       "      <th>flag</th>\n",
       "      <th>src_bytes</th>\n",
       "      <th>dst_bytes</th>\n",
       "      <th>land</th>\n",
       "      <th>wrong_fragment</th>\n",
       "      <th>urgent</th>\n",
       "      <th>hot</th>\n",
       "      <th>...</th>\n",
       "      <th>dst_host_count</th>\n",
       "      <th>dst_host_srv_count</th>\n",
       "      <th>dst_host_same_srv_rate</th>\n",
       "      <th>dst_host_diff_srv_rate</th>\n",
       "      <th>dst_host_same_src_port_rate</th>\n",
       "      <th>dst_host_srv_diff_host_rate</th>\n",
       "      <th>dst_host_serror_rate</th>\n",
       "      <th>dst_host_srv_serror_rate</th>\n",
       "      <th>dst_host_rerror_rate</th>\n",
       "      <th>dst_host_srv_rerror_rate</th>\n",
       "    </tr>\n",
       "  </thead>\n",
       "  <tbody>\n",
       "    <tr>\n",
       "      <th>0</th>\n",
       "      <td>0</td>\n",
       "      <td>0.02</td>\n",
       "      <td>0.09</td>\n",
       "      <td>0</td>\n",
       "      <td>0.01032</td>\n",
       "      <td>0</td>\n",
       "      <td>0</td>\n",
       "      <td>0.0</td>\n",
       "      <td>0</td>\n",
       "      <td>0</td>\n",
       "      <td>...</td>\n",
       "      <td>0.146</td>\n",
       "      <td>0.001</td>\n",
       "      <td>0.001</td>\n",
       "      <td>0.002</td>\n",
       "      <td>0.001</td>\n",
       "      <td>0</td>\n",
       "      <td>0.0</td>\n",
       "      <td>0</td>\n",
       "      <td>0.0</td>\n",
       "      <td>0</td>\n",
       "    </tr>\n",
       "  </tbody>\n",
       "</table>\n",
       "<p>1 rows × 41 columns</p>\n",
       "</div>"
      ],
      "text/plain": [
       "   duration   protocol_type   service   flag   src_bytes   dst_bytes   land  \\\n",
       "0         0            0.02      0.09      0     0.01032           0      0   \n",
       "\n",
       "    wrong_fragment   urgent   hot  ...   dst_host_count   dst_host_srv_count  \\\n",
       "0              0.0        0     0  ...            0.146                0.001   \n",
       "\n",
       "    dst_host_same_srv_rate   dst_host_diff_srv_rate  \\\n",
       "0                    0.001                    0.002   \n",
       "\n",
       "    dst_host_same_src_port_rate   dst_host_srv_diff_host_rate  \\\n",
       "0                         0.001                             0   \n",
       "\n",
       "    dst_host_serror_rate   dst_host_srv_serror_rate   dst_host_rerror_rate  \\\n",
       "0                    0.0                          0                    0.0   \n",
       "\n",
       "    dst_host_srv_rerror_rate  \n",
       "0                          0  \n",
       "\n",
       "[1 rows x 41 columns]"
      ]
     },
     "execution_count": 71,
     "metadata": {},
     "output_type": "execute_result"
    }
   ],
   "source": [
    "D_11.head(1)"
   ]
  },
  {
   "cell_type": "markdown",
   "id": "dedfd200-298a-4ad4-bc8a-4fef0a63fa13",
   "metadata": {},
   "source": [
    "### Creating a column in each table for target"
   ]
  },
  {
   "cell_type": "code",
   "execution_count": 72,
   "id": "3843e59c-cfa2-4c8a-8c45-70bc0c489172",
   "metadata": {},
   "outputs": [],
   "source": [
    "D_1['target'] = 'back'\n",
    "D_2['target'] = 'backoverflow'\n",
    "D_4['target'] = 'guesspassword'\n",
    "D_5['target'] = 'neptune'\n",
    "D_6['target'] = 'nmap'\n",
    "D_7['target'] = 'normal'\n",
    "D_8['target'] = 'portsweep'\n",
    "D_9['target'] = 'rootkit'\n",
    "D_10['target'] = 'satan'\n",
    "D_11['target'] = 'smurf'\n",
    "D_3['target'] = 'ftpwrite'\n",
    "\n"
   ]
  },
  {
   "cell_type": "markdown",
   "id": "81572e09-8c8c-474a-a0e6-b48bf914e322",
   "metadata": {},
   "source": [
    "### Merging all tables"
   ]
  },
  {
   "cell_type": "code",
   "execution_count": 73,
   "id": "cdcfbc06-c80c-4ff8-8e08-6c1ad7fa3b1f",
   "metadata": {},
   "outputs": [],
   "source": [
    "df =[D_1, D_2, D_3, D_4, D_5, D_6, D_7, D_8, D_9, D_10, D_11]"
   ]
  },
  {
   "cell_type": "code",
   "execution_count": 74,
   "id": "d38e2baf-ae11-4482-9f29-6816a75ee74b",
   "metadata": {},
   "outputs": [],
   "source": [
    "data = pd.concat(df,ignore_index=True)"
   ]
  },
  {
   "cell_type": "code",
   "execution_count": 75,
   "id": "bd0cdf05-367a-4770-a198-1bdc719cdbf4",
   "metadata": {},
   "outputs": [
    {
     "data": {
      "text/html": [
       "<div>\n",
       "<style scoped>\n",
       "    .dataframe tbody tr th:only-of-type {\n",
       "        vertical-align: middle;\n",
       "    }\n",
       "\n",
       "    .dataframe tbody tr th {\n",
       "        vertical-align: top;\n",
       "    }\n",
       "\n",
       "    .dataframe thead th {\n",
       "        text-align: right;\n",
       "    }\n",
       "</style>\n",
       "<table border=\"1\" class=\"dataframe\">\n",
       "  <thead>\n",
       "    <tr style=\"text-align: right;\">\n",
       "      <th></th>\n",
       "      <th>duration</th>\n",
       "      <th>protocol_type</th>\n",
       "      <th>service</th>\n",
       "      <th>flag</th>\n",
       "      <th>src_bytes</th>\n",
       "      <th>dst_bytes</th>\n",
       "      <th>land</th>\n",
       "      <th>wrong_fragment</th>\n",
       "      <th>urgent</th>\n",
       "      <th>hot</th>\n",
       "      <th>...</th>\n",
       "      <th>dst_host_srv_count</th>\n",
       "      <th>dst_host_same_srv_rate</th>\n",
       "      <th>dst_host_diff_srv_rate</th>\n",
       "      <th>dst_host_same_src_port_rate</th>\n",
       "      <th>dst_host_srv_diff_host_rate</th>\n",
       "      <th>dst_host_serror_rate</th>\n",
       "      <th>dst_host_srv_serror_rate</th>\n",
       "      <th>dst_host_rerror_rate</th>\n",
       "      <th>dst_host_srv_rerror_rate</th>\n",
       "      <th>target</th>\n",
       "    </tr>\n",
       "  </thead>\n",
       "  <tbody>\n",
       "    <tr>\n",
       "      <th>0</th>\n",
       "      <td>0.0</td>\n",
       "      <td>0.0</td>\n",
       "      <td>0.0</td>\n",
       "      <td>0.0</td>\n",
       "      <td>0.5454</td>\n",
       "      <td>0.08314</td>\n",
       "      <td>0</td>\n",
       "      <td>0.0</td>\n",
       "      <td>0.0</td>\n",
       "      <td>0.2</td>\n",
       "      <td>...</td>\n",
       "      <td>0.001</td>\n",
       "      <td>0.1</td>\n",
       "      <td>0.0</td>\n",
       "      <td>0.100</td>\n",
       "      <td>0.0</td>\n",
       "      <td>0.0</td>\n",
       "      <td>0.0</td>\n",
       "      <td>0.0</td>\n",
       "      <td>0.0</td>\n",
       "      <td>back</td>\n",
       "    </tr>\n",
       "    <tr>\n",
       "      <th>1</th>\n",
       "      <td>0.0</td>\n",
       "      <td>0.0</td>\n",
       "      <td>0.0</td>\n",
       "      <td>0.0</td>\n",
       "      <td>0.5454</td>\n",
       "      <td>0.08314</td>\n",
       "      <td>0</td>\n",
       "      <td>0.0</td>\n",
       "      <td>0.0</td>\n",
       "      <td>0.2</td>\n",
       "      <td>...</td>\n",
       "      <td>0.002</td>\n",
       "      <td>0.1</td>\n",
       "      <td>0.0</td>\n",
       "      <td>0.050</td>\n",
       "      <td>0.0</td>\n",
       "      <td>0.0</td>\n",
       "      <td>0.0</td>\n",
       "      <td>0.0</td>\n",
       "      <td>0.0</td>\n",
       "      <td>back</td>\n",
       "    </tr>\n",
       "    <tr>\n",
       "      <th>2</th>\n",
       "      <td>0.0</td>\n",
       "      <td>0.0</td>\n",
       "      <td>0.0</td>\n",
       "      <td>0.0</td>\n",
       "      <td>0.5454</td>\n",
       "      <td>0.08314</td>\n",
       "      <td>0</td>\n",
       "      <td>0.0</td>\n",
       "      <td>0.0</td>\n",
       "      <td>0.2</td>\n",
       "      <td>...</td>\n",
       "      <td>0.003</td>\n",
       "      <td>0.1</td>\n",
       "      <td>0.0</td>\n",
       "      <td>0.033</td>\n",
       "      <td>0.0</td>\n",
       "      <td>0.0</td>\n",
       "      <td>0.0</td>\n",
       "      <td>0.0</td>\n",
       "      <td>0.0</td>\n",
       "      <td>back</td>\n",
       "    </tr>\n",
       "    <tr>\n",
       "      <th>3</th>\n",
       "      <td>0.0</td>\n",
       "      <td>0.0</td>\n",
       "      <td>0.0</td>\n",
       "      <td>0.0</td>\n",
       "      <td>0.5454</td>\n",
       "      <td>0.08314</td>\n",
       "      <td>0</td>\n",
       "      <td>0.0</td>\n",
       "      <td>0.0</td>\n",
       "      <td>0.2</td>\n",
       "      <td>...</td>\n",
       "      <td>0.004</td>\n",
       "      <td>0.1</td>\n",
       "      <td>0.0</td>\n",
       "      <td>0.025</td>\n",
       "      <td>0.0</td>\n",
       "      <td>0.0</td>\n",
       "      <td>0.0</td>\n",
       "      <td>0.0</td>\n",
       "      <td>0.0</td>\n",
       "      <td>back</td>\n",
       "    </tr>\n",
       "    <tr>\n",
       "      <th>4</th>\n",
       "      <td>0.0</td>\n",
       "      <td>0.0</td>\n",
       "      <td>0.0</td>\n",
       "      <td>0.0</td>\n",
       "      <td>0.5454</td>\n",
       "      <td>0.08314</td>\n",
       "      <td>0</td>\n",
       "      <td>0.0</td>\n",
       "      <td>0.0</td>\n",
       "      <td>0.2</td>\n",
       "      <td>...</td>\n",
       "      <td>0.005</td>\n",
       "      <td>0.1</td>\n",
       "      <td>0.0</td>\n",
       "      <td>0.020</td>\n",
       "      <td>0.0</td>\n",
       "      <td>0.0</td>\n",
       "      <td>0.0</td>\n",
       "      <td>0.0</td>\n",
       "      <td>0.0</td>\n",
       "      <td>back</td>\n",
       "    </tr>\n",
       "  </tbody>\n",
       "</table>\n",
       "<p>5 rows × 42 columns</p>\n",
       "</div>"
      ],
      "text/plain": [
       "   duration   protocol_type   service   flag   src_bytes   dst_bytes   land  \\\n",
       "0       0.0             0.0       0.0    0.0      0.5454     0.08314      0   \n",
       "1       0.0             0.0       0.0    0.0      0.5454     0.08314      0   \n",
       "2       0.0             0.0       0.0    0.0      0.5454     0.08314      0   \n",
       "3       0.0             0.0       0.0    0.0      0.5454     0.08314      0   \n",
       "4       0.0             0.0       0.0    0.0      0.5454     0.08314      0   \n",
       "\n",
       "    wrong_fragment   urgent   hot  ...   dst_host_srv_count  \\\n",
       "0              0.0      0.0   0.2  ...                0.001   \n",
       "1              0.0      0.0   0.2  ...                0.002   \n",
       "2              0.0      0.0   0.2  ...                0.003   \n",
       "3              0.0      0.0   0.2  ...                0.004   \n",
       "4              0.0      0.0   0.2  ...                0.005   \n",
       "\n",
       "    dst_host_same_srv_rate   dst_host_diff_srv_rate  \\\n",
       "0                      0.1                      0.0   \n",
       "1                      0.1                      0.0   \n",
       "2                      0.1                      0.0   \n",
       "3                      0.1                      0.0   \n",
       "4                      0.1                      0.0   \n",
       "\n",
       "    dst_host_same_src_port_rate   dst_host_srv_diff_host_rate  \\\n",
       "0                         0.100                           0.0   \n",
       "1                         0.050                           0.0   \n",
       "2                         0.033                           0.0   \n",
       "3                         0.025                           0.0   \n",
       "4                         0.020                           0.0   \n",
       "\n",
       "    dst_host_serror_rate   dst_host_srv_serror_rate   dst_host_rerror_rate  \\\n",
       "0                    0.0                        0.0                    0.0   \n",
       "1                    0.0                        0.0                    0.0   \n",
       "2                    0.0                        0.0                    0.0   \n",
       "3                    0.0                        0.0                    0.0   \n",
       "4                    0.0                        0.0                    0.0   \n",
       "\n",
       "    dst_host_srv_rerror_rate  target  \n",
       "0                        0.0    back  \n",
       "1                        0.0    back  \n",
       "2                        0.0    back  \n",
       "3                        0.0    back  \n",
       "4                        0.0    back  \n",
       "\n",
       "[5 rows x 42 columns]"
      ]
     },
     "execution_count": 75,
     "metadata": {},
     "output_type": "execute_result"
    }
   ],
   "source": [
    "data.head()"
   ]
  },
  {
   "cell_type": "code",
   "execution_count": 76,
   "id": "39e1896b-9cd0-4f4f-99b3-42ffba608bac",
   "metadata": {},
   "outputs": [
    {
     "name": "stdout",
     "output_type": "stream",
     "text": [
      "<class 'pandas.core.frame.DataFrame'>\n",
      "RangeIndex: 817551 entries, 0 to 817550\n",
      "Data columns (total 42 columns):\n",
      " #   Column                        Non-Null Count   Dtype  \n",
      "---  ------                        --------------   -----  \n",
      " 0   duration                      817551 non-null  float64\n",
      " 1    protocol_type                817551 non-null  float64\n",
      " 2    service                      817551 non-null  float64\n",
      " 3    flag                         817551 non-null  float64\n",
      " 4    src_bytes                    817551 non-null  float64\n",
      " 5    dst_bytes                    817551 non-null  float64\n",
      " 6    land                         817551 non-null  int64  \n",
      " 7    wrong_fragment               817551 non-null  float64\n",
      " 8    urgent                       817551 non-null  float64\n",
      " 9    hot                          817551 non-null  float64\n",
      " 10   num_failed_logins            817551 non-null  float64\n",
      " 11   logged_in                    817551 non-null  float64\n",
      " 12   num_compromised              817551 non-null  float64\n",
      " 13   root_shell                   817551 non-null  float64\n",
      " 14   su_attempted                 817551 non-null  float64\n",
      " 15   num_root                     817551 non-null  float64\n",
      " 16   num_file_creations           817551 non-null  float64\n",
      " 17   num_shells                   817551 non-null  float64\n",
      " 18   num_access_files             817551 non-null  float64\n",
      " 19   num_outbound_cmds            817551 non-null  int64  \n",
      " 20   is_host_login                817551 non-null  float64\n",
      " 21   is_guest_login               817551 non-null  float64\n",
      " 22   count                        817551 non-null  float64\n",
      " 23   srv_count                    817551 non-null  float64\n",
      " 24   serror_rate                  817551 non-null  float64\n",
      " 25   srv_error_rate               817551 non-null  float64\n",
      " 26   rerror_rate                  817551 non-null  float64\n",
      " 27   srv_rerror_rate              817551 non-null  float64\n",
      " 28   same_srv_rate                817551 non-null  float64\n",
      " 29   diff_srv_rate                817551 non-null  float64\n",
      " 30   srv_diff_host_rate           817551 non-null  float64\n",
      " 31   dst_host_count               817551 non-null  float64\n",
      " 32   dst_host_srv_count           817551 non-null  float64\n",
      " 33   dst_host_same_srv_rate       817551 non-null  float64\n",
      " 34   dst_host_diff_srv_rate       817551 non-null  float64\n",
      " 35   dst_host_same_src_port_rate  817551 non-null  float64\n",
      " 36   dst_host_srv_diff_host_rate  817551 non-null  float64\n",
      " 37   dst_host_serror_rate         817551 non-null  float64\n",
      " 38   dst_host_srv_serror_rate     817551 non-null  float64\n",
      " 39   dst_host_rerror_rate         817551 non-null  float64\n",
      " 40   dst_host_srv_rerror_rate     817551 non-null  float64\n",
      " 41  target                        817551 non-null  object \n",
      "dtypes: float64(39), int64(2), object(1)\n",
      "memory usage: 262.0+ MB\n"
     ]
    }
   ],
   "source": [
    "data.info()"
   ]
  },
  {
   "cell_type": "markdown",
   "id": "3a9a5e81-7f21-4d37-8fc5-2f9615a18ddd",
   "metadata": {},
   "source": [
    "### Indetifying the null values"
   ]
  },
  {
   "cell_type": "code",
   "execution_count": 77,
   "id": "5b0d7fbc-e093-42b9-96f4-efcaceae1b72",
   "metadata": {},
   "outputs": [
    {
     "data": {
      "text/plain": [
       "duration                        0\n",
       " protocol_type                  0\n",
       " service                        0\n",
       " flag                           0\n",
       " src_bytes                      0\n",
       " dst_bytes                      0\n",
       " land                           0\n",
       " wrong_fragment                 0\n",
       " urgent                         0\n",
       " hot                            0\n",
       " num_failed_logins              0\n",
       " logged_in                      0\n",
       " num_compromised                0\n",
       " root_shell                     0\n",
       " su_attempted                   0\n",
       " num_root                       0\n",
       " num_file_creations             0\n",
       " num_shells                     0\n",
       " num_access_files               0\n",
       " num_outbound_cmds              0\n",
       " is_host_login                  0\n",
       " is_guest_login                 0\n",
       " count                          0\n",
       " srv_count                      0\n",
       " serror_rate                    0\n",
       " srv_error_rate                 0\n",
       " rerror_rate                    0\n",
       " srv_rerror_rate                0\n",
       " same_srv_rate                  0\n",
       " diff_srv_rate                  0\n",
       " srv_diff_host_rate             0\n",
       " dst_host_count                 0\n",
       " dst_host_srv_count             0\n",
       " dst_host_same_srv_rate         0\n",
       " dst_host_diff_srv_rate         0\n",
       " dst_host_same_src_port_rate    0\n",
       " dst_host_srv_diff_host_rate    0\n",
       " dst_host_serror_rate           0\n",
       " dst_host_srv_serror_rate       0\n",
       " dst_host_rerror_rate           0\n",
       " dst_host_srv_rerror_rate       0\n",
       "target                          0\n",
       "dtype: int64"
      ]
     },
     "execution_count": 77,
     "metadata": {},
     "output_type": "execute_result"
    }
   ],
   "source": [
    "data.isnull().sum()"
   ]
  },
  {
   "cell_type": "markdown",
   "id": "aff9af03-280b-4623-96a5-a2c02be8beff",
   "metadata": {},
   "source": [
    "### Indentifying the du[plicated values"
   ]
  },
  {
   "cell_type": "code",
   "execution_count": 78,
   "id": "749f0cb6-5877-4168-861b-4d5b796d8679",
   "metadata": {},
   "outputs": [
    {
     "data": {
      "text/plain": [
       "0"
      ]
     },
     "execution_count": 78,
     "metadata": {},
     "output_type": "execute_result"
    }
   ],
   "source": [
    "data.duplicated().sum()"
   ]
  },
  {
   "cell_type": "code",
   "execution_count": 79,
   "id": "5049b684-ec09-4b5b-bfec-1944b23d447a",
   "metadata": {},
   "outputs": [
    {
     "data": {
      "text/plain": [
       "(817551, 42)"
      ]
     },
     "execution_count": 79,
     "metadata": {},
     "output_type": "execute_result"
    }
   ],
   "source": [
    "data.shape"
   ]
  },
  {
   "cell_type": "code",
   "execution_count": 80,
   "id": "25f48cf6-bd49-4876-ba56-f9ed5d1593f0",
   "metadata": {},
   "outputs": [
    {
     "data": {
      "text/plain": [
       "target\n",
       "normal           576710\n",
       "neptune          227228\n",
       "satan              5019\n",
       "smurf              3007\n",
       "portsweep          2964\n",
       "nmap               1554\n",
       "back                968\n",
       "guesspassword        53\n",
       "backoverflow         30\n",
       "rootkit              10\n",
       "ftpwrite              8\n",
       "Name: count, dtype: int64"
      ]
     },
     "execution_count": 80,
     "metadata": {},
     "output_type": "execute_result"
    }
   ],
   "source": [
    "data['target'].value_counts()"
   ]
  },
  {
   "cell_type": "code",
   "execution_count": 81,
   "id": "aaee7a16-577a-4959-bce7-981d16f275eb",
   "metadata": {},
   "outputs": [
    {
     "data": {
      "text/plain": [
       "array(['back', 'backoverflow', 'ftpwrite', 'guesspassword', 'neptune',\n",
       "       'nmap', 'normal', 'portsweep', 'rootkit', 'satan', 'smurf'],\n",
       "      dtype=object)"
      ]
     },
     "execution_count": 81,
     "metadata": {},
     "output_type": "execute_result"
    }
   ],
   "source": [
    "data['target'].unique()"
   ]
  },
  {
   "cell_type": "markdown",
   "id": "a76ec842-5cf2-42e6-b256-cdfd0b250d39",
   "metadata": {},
   "source": [
    "##### Add Activity column to check which attack is normal or which is not."
   ]
  },
  {
   "cell_type": "code",
   "execution_count": 82,
   "id": "e02ed7db-cae5-4924-baeb-d38261885fef",
   "metadata": {},
   "outputs": [],
   "source": [
    "data['attack_flag']=np.where((data.target.isin(['back', 'backoverflow', 'ftpwrite', 'guesspassword', 'neptune','nmap','portsweep', \n",
    "                                                'rootkit', 'satan', 'smurf'])==True), 1, 0)"
   ]
  },
  {
   "cell_type": "code",
   "execution_count": 83,
   "id": "94d144e3-2ed3-42e7-aac8-e19483c92b46",
   "metadata": {},
   "outputs": [
    {
     "data": {
      "text/plain": [
       "attack_flag\n",
       "0    576710\n",
       "1    240841\n",
       "Name: count, dtype: int64"
      ]
     },
     "execution_count": 83,
     "metadata": {},
     "output_type": "execute_result"
    }
   ],
   "source": [
    "data['attack_flag'].value_counts()"
   ]
  },
  {
   "cell_type": "code",
   "execution_count": 84,
   "id": "bfb17010-b3ca-4568-92ac-2bdeeb0164f3",
   "metadata": {},
   "outputs": [
    {
     "data": {
      "text/html": [
       "<div>\n",
       "<style scoped>\n",
       "    .dataframe tbody tr th:only-of-type {\n",
       "        vertical-align: middle;\n",
       "    }\n",
       "\n",
       "    .dataframe tbody tr th {\n",
       "        vertical-align: top;\n",
       "    }\n",
       "\n",
       "    .dataframe thead th {\n",
       "        text-align: right;\n",
       "    }\n",
       "</style>\n",
       "<table border=\"1\" class=\"dataframe\">\n",
       "  <thead>\n",
       "    <tr style=\"text-align: right;\">\n",
       "      <th></th>\n",
       "      <th>duration</th>\n",
       "      <th>protocol_type</th>\n",
       "      <th>service</th>\n",
       "      <th>flag</th>\n",
       "      <th>src_bytes</th>\n",
       "      <th>dst_bytes</th>\n",
       "      <th>land</th>\n",
       "      <th>wrong_fragment</th>\n",
       "      <th>urgent</th>\n",
       "      <th>hot</th>\n",
       "      <th>...</th>\n",
       "      <th>dst_host_same_srv_rate</th>\n",
       "      <th>dst_host_diff_srv_rate</th>\n",
       "      <th>dst_host_same_src_port_rate</th>\n",
       "      <th>dst_host_srv_diff_host_rate</th>\n",
       "      <th>dst_host_serror_rate</th>\n",
       "      <th>dst_host_srv_serror_rate</th>\n",
       "      <th>dst_host_rerror_rate</th>\n",
       "      <th>dst_host_srv_rerror_rate</th>\n",
       "      <th>target</th>\n",
       "      <th>attack_flag</th>\n",
       "    </tr>\n",
       "  </thead>\n",
       "  <tbody>\n",
       "    <tr>\n",
       "      <th>0</th>\n",
       "      <td>0.0</td>\n",
       "      <td>0.0</td>\n",
       "      <td>0.0</td>\n",
       "      <td>0.0</td>\n",
       "      <td>0.5454</td>\n",
       "      <td>0.08314</td>\n",
       "      <td>0</td>\n",
       "      <td>0.0</td>\n",
       "      <td>0.0</td>\n",
       "      <td>0.2</td>\n",
       "      <td>...</td>\n",
       "      <td>0.1</td>\n",
       "      <td>0.0</td>\n",
       "      <td>0.100</td>\n",
       "      <td>0.0</td>\n",
       "      <td>0.0</td>\n",
       "      <td>0.0</td>\n",
       "      <td>0.0</td>\n",
       "      <td>0.0</td>\n",
       "      <td>back</td>\n",
       "      <td>1</td>\n",
       "    </tr>\n",
       "    <tr>\n",
       "      <th>1</th>\n",
       "      <td>0.0</td>\n",
       "      <td>0.0</td>\n",
       "      <td>0.0</td>\n",
       "      <td>0.0</td>\n",
       "      <td>0.5454</td>\n",
       "      <td>0.08314</td>\n",
       "      <td>0</td>\n",
       "      <td>0.0</td>\n",
       "      <td>0.0</td>\n",
       "      <td>0.2</td>\n",
       "      <td>...</td>\n",
       "      <td>0.1</td>\n",
       "      <td>0.0</td>\n",
       "      <td>0.050</td>\n",
       "      <td>0.0</td>\n",
       "      <td>0.0</td>\n",
       "      <td>0.0</td>\n",
       "      <td>0.0</td>\n",
       "      <td>0.0</td>\n",
       "      <td>back</td>\n",
       "      <td>1</td>\n",
       "    </tr>\n",
       "    <tr>\n",
       "      <th>2</th>\n",
       "      <td>0.0</td>\n",
       "      <td>0.0</td>\n",
       "      <td>0.0</td>\n",
       "      <td>0.0</td>\n",
       "      <td>0.5454</td>\n",
       "      <td>0.08314</td>\n",
       "      <td>0</td>\n",
       "      <td>0.0</td>\n",
       "      <td>0.0</td>\n",
       "      <td>0.2</td>\n",
       "      <td>...</td>\n",
       "      <td>0.1</td>\n",
       "      <td>0.0</td>\n",
       "      <td>0.033</td>\n",
       "      <td>0.0</td>\n",
       "      <td>0.0</td>\n",
       "      <td>0.0</td>\n",
       "      <td>0.0</td>\n",
       "      <td>0.0</td>\n",
       "      <td>back</td>\n",
       "      <td>1</td>\n",
       "    </tr>\n",
       "    <tr>\n",
       "      <th>3</th>\n",
       "      <td>0.0</td>\n",
       "      <td>0.0</td>\n",
       "      <td>0.0</td>\n",
       "      <td>0.0</td>\n",
       "      <td>0.5454</td>\n",
       "      <td>0.08314</td>\n",
       "      <td>0</td>\n",
       "      <td>0.0</td>\n",
       "      <td>0.0</td>\n",
       "      <td>0.2</td>\n",
       "      <td>...</td>\n",
       "      <td>0.1</td>\n",
       "      <td>0.0</td>\n",
       "      <td>0.025</td>\n",
       "      <td>0.0</td>\n",
       "      <td>0.0</td>\n",
       "      <td>0.0</td>\n",
       "      <td>0.0</td>\n",
       "      <td>0.0</td>\n",
       "      <td>back</td>\n",
       "      <td>1</td>\n",
       "    </tr>\n",
       "    <tr>\n",
       "      <th>4</th>\n",
       "      <td>0.0</td>\n",
       "      <td>0.0</td>\n",
       "      <td>0.0</td>\n",
       "      <td>0.0</td>\n",
       "      <td>0.5454</td>\n",
       "      <td>0.08314</td>\n",
       "      <td>0</td>\n",
       "      <td>0.0</td>\n",
       "      <td>0.0</td>\n",
       "      <td>0.2</td>\n",
       "      <td>...</td>\n",
       "      <td>0.1</td>\n",
       "      <td>0.0</td>\n",
       "      <td>0.020</td>\n",
       "      <td>0.0</td>\n",
       "      <td>0.0</td>\n",
       "      <td>0.0</td>\n",
       "      <td>0.0</td>\n",
       "      <td>0.0</td>\n",
       "      <td>back</td>\n",
       "      <td>1</td>\n",
       "    </tr>\n",
       "  </tbody>\n",
       "</table>\n",
       "<p>5 rows × 43 columns</p>\n",
       "</div>"
      ],
      "text/plain": [
       "   duration   protocol_type   service   flag   src_bytes   dst_bytes   land  \\\n",
       "0       0.0             0.0       0.0    0.0      0.5454     0.08314      0   \n",
       "1       0.0             0.0       0.0    0.0      0.5454     0.08314      0   \n",
       "2       0.0             0.0       0.0    0.0      0.5454     0.08314      0   \n",
       "3       0.0             0.0       0.0    0.0      0.5454     0.08314      0   \n",
       "4       0.0             0.0       0.0    0.0      0.5454     0.08314      0   \n",
       "\n",
       "    wrong_fragment   urgent   hot  ...   dst_host_same_srv_rate  \\\n",
       "0              0.0      0.0   0.2  ...                      0.1   \n",
       "1              0.0      0.0   0.2  ...                      0.1   \n",
       "2              0.0      0.0   0.2  ...                      0.1   \n",
       "3              0.0      0.0   0.2  ...                      0.1   \n",
       "4              0.0      0.0   0.2  ...                      0.1   \n",
       "\n",
       "    dst_host_diff_srv_rate   dst_host_same_src_port_rate  \\\n",
       "0                      0.0                         0.100   \n",
       "1                      0.0                         0.050   \n",
       "2                      0.0                         0.033   \n",
       "3                      0.0                         0.025   \n",
       "4                      0.0                         0.020   \n",
       "\n",
       "    dst_host_srv_diff_host_rate   dst_host_serror_rate  \\\n",
       "0                           0.0                    0.0   \n",
       "1                           0.0                    0.0   \n",
       "2                           0.0                    0.0   \n",
       "3                           0.0                    0.0   \n",
       "4                           0.0                    0.0   \n",
       "\n",
       "    dst_host_srv_serror_rate   dst_host_rerror_rate  \\\n",
       "0                        0.0                    0.0   \n",
       "1                        0.0                    0.0   \n",
       "2                        0.0                    0.0   \n",
       "3                        0.0                    0.0   \n",
       "4                        0.0                    0.0   \n",
       "\n",
       "    dst_host_srv_rerror_rate  target  attack_flag  \n",
       "0                        0.0    back            1  \n",
       "1                        0.0    back            1  \n",
       "2                        0.0    back            1  \n",
       "3                        0.0    back            1  \n",
       "4                        0.0    back            1  \n",
       "\n",
       "[5 rows x 43 columns]"
      ]
     },
     "execution_count": 84,
     "metadata": {},
     "output_type": "execute_result"
    }
   ],
   "source": [
    "data.head()"
   ]
  },
  {
   "cell_type": "code",
   "execution_count": 85,
   "id": "55046f07-4f96-448c-8637-328dc1092ae1",
   "metadata": {},
   "outputs": [
    {
     "data": {
      "text/plain": [
       "(817551, 43)"
      ]
     },
     "execution_count": 85,
     "metadata": {},
     "output_type": "execute_result"
    }
   ],
   "source": [
    "data.shape"
   ]
  },
  {
   "cell_type": "code",
   "execution_count": 86,
   "id": "49a5ce11-39c5-44dc-bfce-5a6191ad4989",
   "metadata": {},
   "outputs": [
    {
     "data": {
      "text/plain": [
       "Index(['duration', ' protocol_type', ' service', ' flag', ' src_bytes',\n",
       "       ' dst_bytes', ' land', ' wrong_fragment', ' urgent', ' hot',\n",
       "       ' num_failed_logins', ' logged_in', ' num_compromised', ' root_shell',\n",
       "       ' su_attempted', ' num_root', ' num_file_creations', ' num_shells',\n",
       "       ' num_access_files', ' num_outbound_cmds', ' is_host_login',\n",
       "       ' is_guest_login', ' count', ' srv_count', ' serror_rate',\n",
       "       ' srv_error_rate', ' rerror_rate', ' srv_rerror_rate', ' same_srv_rate',\n",
       "       ' diff_srv_rate', ' srv_diff_host_rate', ' dst_host_count',\n",
       "       ' dst_host_srv_count', ' dst_host_same_srv_rate',\n",
       "       ' dst_host_diff_srv_rate', ' dst_host_same_src_port_rate',\n",
       "       ' dst_host_srv_diff_host_rate', ' dst_host_serror_rate',\n",
       "       ' dst_host_srv_serror_rate', ' dst_host_rerror_rate',\n",
       "       ' dst_host_srv_rerror_rate', 'target', 'attack_flag'],\n",
       "      dtype='object')"
      ]
     },
     "execution_count": 86,
     "metadata": {},
     "output_type": "execute_result"
    }
   ],
   "source": [
    "data.columns"
   ]
  },
  {
   "cell_type": "markdown",
   "id": "283e7f21-228c-4171-8b69-273b60d24b9f",
   "metadata": {},
   "source": [
    "### Renaming the columns"
   ]
  },
  {
   "cell_type": "code",
   "execution_count": 87,
   "id": "d0053e58-80c2-4f93-9a1c-516e70780dac",
   "metadata": {},
   "outputs": [],
   "source": [
    "data.rename(columns = {' protocol_type':'Protocol_type',' service':'Service',' flag':'Flag',' src_bytes':'Src_bytes',' dst_bytes':'Dst_bytes',\n",
    "                            ' land':'Land',' wrong_fragment':'Wrong_fragment',' urgent':'Urgent',' hot':'Hot',' num_failed_logins':'Num_failed_logins',\n",
    "                            ' logged_in':'Logged_in',' num_compromised':'Num_compromised',' root_shell':'Root_shell',' su_attempted':'Su_attempted',\n",
    "                            ' num_root':'Num_root',' num_file_creations':'Num_file_creations',' num_shells':'Num_shells',' num_access_files':'Num_access_files'\n",
    "                            ,' num_outbound_cmds':'num_outbound_cmds',' is_host_login':'is_host_login',' is_guest_login':'is_guest_login',\n",
    "                            ' count':'count',' srv_count':'srv_count',' serror_rate':'serror_rate',' srv_error_rate':'srv_error_rate',' rerror_rate':'rerror_rate'\n",
    "                            ,' srv_rerror_rate':'srv_rerror_rate',' same_srv_rate':'same_srv_rate',' diff_srv_rate':'diff_srv_rate',\n",
    "                            ' srv_diff_host_rate':'srv_diff_host_rate',' dst_host_count':'dst_host_count',' dst_host_srv_count':'dst_host_srv_count',\n",
    "                            ' dst_host_same_srv_rate':'dst_host_same_srv_rate',' dst_host_diff_srv_rate':'dst_host_diff_srv_rate',\n",
    "                            ' dst_host_serror_rate':'dst_host_serror_rate',' dst_host_srv_serror_rate':'dst_host_srv_serror_rate',\n",
    "                            ' dst_host_rerror_rate':'dst_host_rerror_rate',' dst_host_srv_rerror_rate':'dst_host_srv_rerror_rate'},inplace = True)"
   ]
  },
  {
   "cell_type": "code",
   "execution_count": 88,
   "id": "97e26e74-af7d-4034-9f71-ec3807e358c3",
   "metadata": {},
   "outputs": [
    {
     "data": {
      "text/plain": [
       "duration                        0\n",
       "Protocol_type                   0\n",
       "Service                         0\n",
       "Flag                            0\n",
       "Src_bytes                       0\n",
       "Dst_bytes                       0\n",
       "Land                            0\n",
       "Wrong_fragment                  0\n",
       "Urgent                          0\n",
       "Hot                             0\n",
       "Num_failed_logins               0\n",
       "Logged_in                       0\n",
       "Num_compromised                 0\n",
       "Root_shell                      0\n",
       "Su_attempted                    0\n",
       "Num_root                        0\n",
       "Num_file_creations              0\n",
       "Num_shells                      0\n",
       "Num_access_files                0\n",
       "num_outbound_cmds               0\n",
       "is_host_login                   0\n",
       "is_guest_login                  0\n",
       "count                           0\n",
       "srv_count                       0\n",
       "serror_rate                     0\n",
       "srv_error_rate                  0\n",
       "rerror_rate                     0\n",
       "srv_rerror_rate                 0\n",
       "same_srv_rate                   0\n",
       "diff_srv_rate                   0\n",
       "srv_diff_host_rate              0\n",
       "dst_host_count                  0\n",
       "dst_host_srv_count              0\n",
       "dst_host_same_srv_rate          0\n",
       "dst_host_diff_srv_rate          0\n",
       " dst_host_same_src_port_rate    0\n",
       " dst_host_srv_diff_host_rate    0\n",
       "dst_host_serror_rate            0\n",
       "dst_host_srv_serror_rate        0\n",
       "dst_host_rerror_rate            0\n",
       "dst_host_srv_rerror_rate        0\n",
       "target                          0\n",
       "attack_flag                     0\n",
       "dtype: int64"
      ]
     },
     "execution_count": 88,
     "metadata": {},
     "output_type": "execute_result"
    }
   ],
   "source": [
    "data.isnull().sum()"
   ]
  },
  {
   "cell_type": "code",
   "execution_count": 89,
   "id": "aa2c2fdf-0985-4e54-9d2b-59a0bef8f7ee",
   "metadata": {},
   "outputs": [
    {
     "name": "stdout",
     "output_type": "stream",
     "text": [
      "Unique values in column 'duration': 918\n",
      "Unique values in column 'Protocol_type': 3\n",
      "Unique values in column 'Service': 67\n",
      "Unique values in column 'Flag': 11\n",
      "Unique values in column 'Src_bytes': 5908\n",
      "Unique values in column 'Dst_bytes': 18399\n",
      "Unique values in column 'Land': 1\n",
      "Unique values in column 'Wrong_fragment': 2\n",
      "Unique values in column 'Urgent': 5\n",
      "Unique values in column 'Hot': 11\n",
      "Unique values in column 'Num_failed_logins': 6\n",
      "Unique values in column 'Logged_in': 2\n",
      "Unique values in column 'Num_compromised': 11\n",
      "Unique values in column 'Root_shell': 2\n",
      "Unique values in column 'Su_attempted': 3\n",
      "Unique values in column 'Num_root': 11\n",
      "Unique values in column 'Num_file_creations': 11\n",
      "Unique values in column 'Num_shells': 3\n",
      "Unique values in column 'Num_access_files': 9\n",
      "Unique values in column 'num_outbound_cmds': 1\n",
      "Unique values in column 'is_host_login': 2\n",
      "Unique values in column 'is_guest_login': 2\n",
      "Unique values in column 'count': 512\n",
      "Unique values in column 'srv_count': 512\n",
      "Unique values in column 'serror_rate': 96\n",
      "Unique values in column 'srv_error_rate': 75\n",
      "Unique values in column 'rerror_rate': 85\n",
      "Unique values in column 'srv_rerror_rate': 60\n",
      "Unique values in column 'same_srv_rate': 101\n",
      "Unique values in column 'diff_srv_rate': 90\n",
      "Unique values in column 'srv_diff_host_rate': 72\n",
      "Unique values in column 'dst_host_count': 256\n",
      "Unique values in column 'dst_host_srv_count': 256\n",
      "Unique values in column 'dst_host_same_srv_rate': 101\n",
      "Unique values in column 'dst_host_diff_srv_rate': 101\n",
      "Unique values in column ' dst_host_same_src_port_rate': 101\n",
      "Unique values in column ' dst_host_srv_diff_host_rate': 68\n",
      "Unique values in column 'dst_host_serror_rate': 101\n",
      "Unique values in column 'dst_host_srv_serror_rate': 97\n",
      "Unique values in column 'dst_host_rerror_rate': 101\n",
      "Unique values in column 'dst_host_srv_rerror_rate': 101\n",
      "Unique values in column 'target': 11\n",
      "Unique values in column 'attack_flag': 2\n"
     ]
    }
   ],
   "source": [
    "# Dropping Columns which have no effect on data or contain only single type of values¶\n",
    "\n",
    "for column in data.columns:\n",
    "    unique_values = data[column].nunique()\n",
    "    \n",
    "    print(f\"Unique values in column '{column}': {unique_values}\" )"
   ]
  },
  {
   "cell_type": "code",
   "execution_count": 90,
   "id": "61a06b75-7749-4f00-8fbb-ecba6ca213b7",
   "metadata": {},
   "outputs": [],
   "source": [
    "#Dropping those columns which contains only singles values\n",
    "\n",
    "data.drop(columns=['Land','num_outbound_cmds',], inplace=True)"
   ]
  },
  {
   "cell_type": "markdown",
   "id": "d270c766-148c-462d-98a5-37fd92bf6fd2",
   "metadata": {},
   "source": [
    "###  Converting Categorical to Numerical Values"
   ]
  },
  {
   "cell_type": "code",
   "execution_count": 91,
   "id": "691d5eea-cc1d-4a18-b8fd-69f01daff3f9",
   "metadata": {},
   "outputs": [
    {
     "name": "stdout",
     "output_type": "stream",
     "text": [
      "<class 'pandas.core.frame.DataFrame'>\n",
      "RangeIndex: 817551 entries, 0 to 817550\n",
      "Data columns (total 41 columns):\n",
      " #   Column                        Non-Null Count   Dtype  \n",
      "---  ------                        --------------   -----  \n",
      " 0   duration                      817551 non-null  float64\n",
      " 1   Protocol_type                 817551 non-null  float64\n",
      " 2   Service                       817551 non-null  float64\n",
      " 3   Flag                          817551 non-null  float64\n",
      " 4   Src_bytes                     817551 non-null  float64\n",
      " 5   Dst_bytes                     817551 non-null  float64\n",
      " 6   Wrong_fragment                817551 non-null  float64\n",
      " 7   Urgent                        817551 non-null  float64\n",
      " 8   Hot                           817551 non-null  float64\n",
      " 9   Num_failed_logins             817551 non-null  float64\n",
      " 10  Logged_in                     817551 non-null  float64\n",
      " 11  Num_compromised               817551 non-null  float64\n",
      " 12  Root_shell                    817551 non-null  float64\n",
      " 13  Su_attempted                  817551 non-null  float64\n",
      " 14  Num_root                      817551 non-null  float64\n",
      " 15  Num_file_creations            817551 non-null  float64\n",
      " 16  Num_shells                    817551 non-null  float64\n",
      " 17  Num_access_files              817551 non-null  float64\n",
      " 18  is_host_login                 817551 non-null  float64\n",
      " 19  is_guest_login                817551 non-null  float64\n",
      " 20  count                         817551 non-null  float64\n",
      " 21  srv_count                     817551 non-null  float64\n",
      " 22  serror_rate                   817551 non-null  float64\n",
      " 23  srv_error_rate                817551 non-null  float64\n",
      " 24  rerror_rate                   817551 non-null  float64\n",
      " 25  srv_rerror_rate               817551 non-null  float64\n",
      " 26  same_srv_rate                 817551 non-null  float64\n",
      " 27  diff_srv_rate                 817551 non-null  float64\n",
      " 28  srv_diff_host_rate            817551 non-null  float64\n",
      " 29  dst_host_count                817551 non-null  float64\n",
      " 30  dst_host_srv_count            817551 non-null  float64\n",
      " 31  dst_host_same_srv_rate        817551 non-null  float64\n",
      " 32  dst_host_diff_srv_rate        817551 non-null  float64\n",
      " 33   dst_host_same_src_port_rate  817551 non-null  float64\n",
      " 34   dst_host_srv_diff_host_rate  817551 non-null  float64\n",
      " 35  dst_host_serror_rate          817551 non-null  float64\n",
      " 36  dst_host_srv_serror_rate      817551 non-null  float64\n",
      " 37  dst_host_rerror_rate          817551 non-null  float64\n",
      " 38  dst_host_srv_rerror_rate      817551 non-null  float64\n",
      " 39  target                        817551 non-null  object \n",
      " 40  attack_flag                   817551 non-null  int32  \n",
      "dtypes: float64(39), int32(1), object(1)\n",
      "memory usage: 252.6+ MB\n"
     ]
    }
   ],
   "source": [
    "data.info()"
   ]
  },
  {
   "cell_type": "code",
   "execution_count": 92,
   "id": "28905273-7408-4087-b309-c2e5a2e2257d",
   "metadata": {},
   "outputs": [],
   "source": [
    " # Only one categorical column we have"
   ]
  },
  {
   "cell_type": "markdown",
   "id": "052bb17e-faa7-481f-89ef-7274cb0a82b4",
   "metadata": {},
   "source": [
    "### Applying Label Encoding "
   ]
  },
  {
   "cell_type": "code",
   "execution_count": 93,
   "id": "03ce5008-0a51-4b89-aa63-0c3b84f80387",
   "metadata": {},
   "outputs": [
    {
     "data": {
      "text/plain": [
       "array(['back', 'backoverflow', 'ftpwrite', 'guesspassword', 'neptune',\n",
       "       'nmap', 'normal', 'portsweep', 'rootkit', 'satan', 'smurf'],\n",
       "      dtype=object)"
      ]
     },
     "execution_count": 93,
     "metadata": {},
     "output_type": "execute_result"
    }
   ],
   "source": [
    "data.target.unique()"
   ]
  },
  {
   "cell_type": "code",
   "execution_count": 94,
   "id": "676bef6f-7b31-4e21-991d-5b87cf8bc18f",
   "metadata": {},
   "outputs": [],
   "source": [
    "label_mapping = {}\n",
    "for col in ['target']:\n",
    "    le = LabelEncoder()\n",
    "    data[col] = le.fit_transform(data[col])\n",
    "    d = dict(zip(le.classes_,sorted(data[col].unique())))\n",
    "    label_mapping.update(d)"
   ]
  },
  {
   "cell_type": "code",
   "execution_count": 95,
   "id": "8dfccad8-d9e5-4b96-a44f-4ff80deba2b4",
   "metadata": {},
   "outputs": [
    {
     "data": {
      "text/plain": [
       "{'back': 0,\n",
       " 'backoverflow': 1,\n",
       " 'ftpwrite': 2,\n",
       " 'guesspassword': 3,\n",
       " 'neptune': 4,\n",
       " 'nmap': 5,\n",
       " 'normal': 6,\n",
       " 'portsweep': 7,\n",
       " 'rootkit': 8,\n",
       " 'satan': 9,\n",
       " 'smurf': 10}"
      ]
     },
     "execution_count": 95,
     "metadata": {},
     "output_type": "execute_result"
    }
   ],
   "source": [
    "label_mapping"
   ]
  },
  {
   "cell_type": "markdown",
   "id": "6101a3e2-4bac-46a4-a3f7-c274cfa6a366",
   "metadata": {},
   "source": [
    "### Checking Correlation¶"
   ]
  },
  {
   "cell_type": "code",
   "execution_count": 96,
   "id": "e7bae71b-8c14-48e0-a5ff-05249f778201",
   "metadata": {},
   "outputs": [
    {
     "data": {
      "image/png": "[encoded data removed]",
      "text/plain": [
       "<Figure size 3500x2000 with 2 Axes>"
      ]
     },
     "metadata": {},
     "output_type": "display_data"
    }
   ],
   "source": [
    "plt.figure(figsize=(35,20))\n",
    "sns.heatmap(data.corr(),vmin = -1,vmax = 1,annot =True)\n",
    "plt.show()"
   ]
  },
  {
   "cell_type": "markdown",
   "id": "47a17cc0-c436-48ab-a8de-a2b7d281908c",
   "metadata": {},
   "source": [
    "#### Dropping column which is correlated in a range (>0.80) or (<-0.80)"
   ]
  },
  {
   "cell_type": "code",
   "execution_count": 97,
   "id": "c18d39c3-bcfa-423b-920d-a92b23b82e5e",
   "metadata": {},
   "outputs": [],
   "source": [
    "data.drop(columns=['Flag','Logged_in','count','serror_rate','srv_error_rate','same_srv_rate','dst_host_srv_count','dst_host_same_srv_rate',\n",
    "                        'dst_host_serror_rate','dst_host_srv_serror_rate','rerror_rate','srv_rerror_rate','dst_host_rerror_rate'], inplace=True)"
   ]
  },
  {
   "cell_type": "code",
   "execution_count": 98,
   "id": "92939b95-97c9-48e8-9e17-0acd1089d1b1",
   "metadata": {},
   "outputs": [],
   "source": [
    "data2 = data.copy()"
   ]
  },
  {
   "cell_type": "markdown",
   "id": "79376b92-8459-4e9c-ad4b-fb6745e17708",
   "metadata": {},
   "source": [
    "## Model Building"
   ]
  },
  {
   "cell_type": "markdown",
   "id": "3f273855-3994-4f40-953b-03f36a5ca384",
   "metadata": {},
   "source": [
    "### Bionomial Classification"
   ]
  },
  {
   "cell_type": "code",
   "execution_count": 99,
   "id": "c416dfd9-fa12-4616-ab3e-c9e7421b1c5e",
   "metadata": {},
   "outputs": [],
   "source": [
    "X = data.iloc[:,:26] #Spliting the data in X & Y\n",
    "Y = data.loc[:,['attack_flag']]"
   ]
  },
  {
   "cell_type": "code",
   "execution_count": 100,
   "id": "a87fa1af-150c-46b0-a990-f66d76908b2e",
   "metadata": {},
   "outputs": [],
   "source": [
    "sc=StandardScaler()\n",
    "sc=sc.fit(X)\n",
    "X =pd.DataFrame(sc.transform(X), columns=X.columns)"
   ]
  },
  {
   "cell_type": "code",
   "execution_count": 101,
   "id": "ea83ee1c-43ba-4a50-b51f-e92ec3923ff3",
   "metadata": {},
   "outputs": [],
   "source": [
    "xtrain , xtest, ytrain, ytest = train_test_split(X, Y,test_size = 0.20)"
   ]
  },
  {
   "cell_type": "code",
   "execution_count": 102,
   "id": "54195fa3-63a0-45f6-9c15-69ff0be34bf7",
   "metadata": {},
   "outputs": [
    {
     "data": {
      "text/plain": [
       "((654040, 26), (163511, 26), (654040, 1), (163511, 1))"
      ]
     },
     "execution_count": 102,
     "metadata": {},
     "output_type": "execute_result"
    }
   ],
   "source": [
    "xtrain.shape , xtest.shape , ytrain.shape , ytest.shape "
   ]
  },
  {
   "cell_type": "code",
   "execution_count": 103,
   "id": "3cdbd6e8-1963-4e16-bd3a-98e531c8a95d",
   "metadata": {},
   "outputs": [
    {
     "data": {
      "text/html": [
       "<style>#sk-container-id-3 {color: black;background-color: white;}#sk-container-id-3 pre{padding: 0;}#sk-container-id-3 div.sk-toggleable {background-color: white;}#sk-container-id-3 label.sk-toggleable__label {cursor: pointer;display: block;width: 100%;margin-bottom: 0;padding: 0.3em;box-sizing: border-box;text-align: center;}#sk-container-id-3 label.sk-toggleable__label-arrow:before {content: \"▸\";float: left;margin-right: 0.25em;color: #696969;}#sk-container-id-3 label.sk-toggleable__label-arrow:hover:before {color: black;}#sk-container-id-3 div.sk-estimator:hover label.sk-toggleable__label-arrow:before {color: black;}#sk-container-id-3 div.sk-toggleable__content {max-height: 0;max-width: 0;overflow: hidden;text-align: left;background-color: #f0f8ff;}#sk-container-id-3 div.sk-toggleable__content pre {margin: 0.2em;color: black;border-radius: 0.25em;background-color: #f0f8ff;}#sk-container-id-3 input.sk-toggleable__control:checked~div.sk-toggleable__content {max-height: 200px;max-width: 100%;overflow: auto;}#sk-container-id-3 input.sk-toggleable__control:checked~label.sk-toggleable__label-arrow:before {content: \"▾\";}#sk-container-id-3 div.sk-estimator input.sk-toggleable__control:checked~label.sk-toggleable__label {background-color: #d4ebff;}#sk-container-id-3 div.sk-label input.sk-toggleable__control:checked~label.sk-toggleable__label {background-color: #d4ebff;}#sk-container-id-3 input.sk-hidden--visually {border: 0;clip: rect(1px 1px 1px 1px);clip: rect(1px, 1px, 1px, 1px);height: 1px;margin: -1px;overflow: hidden;padding: 0;position: absolute;width: 1px;}#sk-container-id-3 div.sk-estimator {font-family: monospace;background-color: #f0f8ff;border: 1px dotted black;border-radius: 0.25em;box-sizing: border-box;margin-bottom: 0.5em;}#sk-container-id-3 div.sk-estimator:hover {background-color: #d4ebff;}#sk-container-id-3 div.sk-parallel-item::after {content: \"\";width: 100%;border-bottom: 1px solid gray;flex-grow: 1;}#sk-container-id-3 div.sk-label:hover label.sk-toggleable__label {background-color: #d4ebff;}#sk-container-id-3 div.sk-serial::before {content: \"\";position: absolute;border-left: 1px solid gray;box-sizing: border-box;top: 0;bottom: 0;left: 50%;z-index: 0;}#sk-container-id-3 div.sk-serial {display: flex;flex-direction: column;align-items: center;background-color: white;padding-right: 0.2em;padding-left: 0.2em;position: relative;}#sk-container-id-3 div.sk-item {position: relative;z-index: 1;}#sk-container-id-3 div.sk-parallel {display: flex;align-items: stretch;justify-content: center;background-color: white;position: relative;}#sk-container-id-3 div.sk-item::before, #sk-container-id-3 div.sk-parallel-item::before {content: \"\";position: absolute;border-left: 1px solid gray;box-sizing: border-box;top: 0;bottom: 0;left: 50%;z-index: -1;}#sk-container-id-3 div.sk-parallel-item {display: flex;flex-direction: column;z-index: 1;position: relative;background-color: white;}#sk-container-id-3 div.sk-parallel-item:first-child::after {align-self: flex-end;width: 50%;}#sk-container-id-3 div.sk-parallel-item:last-child::after {align-self: flex-start;width: 50%;}#sk-container-id-3 div.sk-parallel-item:only-child::after {width: 0;}#sk-container-id-3 div.sk-dashed-wrapped {border: 1px dashed gray;margin: 0 0.4em 0.5em 0.4em;box-sizing: border-box;padding-bottom: 0.4em;background-color: white;}#sk-container-id-3 div.sk-label label {font-family: monospace;font-weight: bold;display: inline-block;line-height: 1.2em;}#sk-container-id-3 div.sk-label-container {text-align: center;}#sk-container-id-3 div.sk-container {/* jupyter's `normalize.less` sets `[hidden] { display: none; }` but bootstrap.min.css set `[hidden] { display: none !important; }` so we also need the `!important` here to be able to override the default hidden behavior on the sphinx rendered scikit-learn.org. See: https://github.com/scikit-learn/scikit-learn/issues/21755 */display: inline-block !important;position: relative;}#sk-container-id-3 div.sk-text-repr-fallback {display: none;}</style><div id=\"sk-container-id-3\" class=\"sk-top-container\"><div class=\"sk-text-repr-fallback\"><pre>LogisticRegression()</pre><b>In a Jupyter environment, please rerun this cell to show the HTML representation or trust the notebook. <br />On GitHub, the HTML representation is unable to render, please try loading this page with nbviewer.org.</b></div><div class=\"sk-container\" hidden><div class=\"sk-item\"><div class=\"sk-estimator sk-toggleable\"><input class=\"sk-toggleable__control sk-hidden--visually\" id=\"sk-estimator-id-3\" type=\"checkbox\" checked><label for=\"sk-estimator-id-3\" class=\"sk-toggleable__label sk-toggleable__label-arrow\">LogisticRegression</label><div class=\"sk-toggleable__content\"><pre>LogisticRegression()</pre></div></div></div></div></div>"
      ],
      "text/plain": [
       "LogisticRegression()"
      ]
     },
     "execution_count": 103,
     "metadata": {},
     "output_type": "execute_result"
    }
   ],
   "source": [
    "lr = LogisticRegression()\n",
    "lr.fit(xtrain, ytrain)"
   ]
  },
  {
   "cell_type": "code",
   "execution_count": 104,
   "id": "04c87a56-7a25-44eb-b621-6897332d354d",
   "metadata": {},
   "outputs": [
    {
     "data": {
      "text/plain": [
       "array([0, 0, 0, ..., 1, 0, 1])"
      ]
     },
     "execution_count": 104,
     "metadata": {},
     "output_type": "execute_result"
    }
   ],
   "source": [
    "pred1 = lr.predict(xtest)\n",
    "pred1"
   ]
  },
  {
   "cell_type": "code",
   "execution_count": 105,
   "id": "f16de378-76ac-4422-b4b3-b641c62947cf",
   "metadata": {},
   "outputs": [
    {
     "name": "stdout",
     "output_type": "stream",
     "text": [
      "0.9802092825559137 0.9694774099521133 0.9633798154508214\n"
     ]
    }
   ],
   "source": [
    "acc = accuracy_score(ytest, pred1)\n",
    "pre = precision_score(ytest,pred1)\n",
    "rec = recall_score(ytest,pred1)\n",
    "print(acc, pre, rec)"
   ]
  },
  {
   "cell_type": "code",
   "execution_count": 106,
   "id": "991f1272-eec8-44a2-857a-9789cf332be6",
   "metadata": {},
   "outputs": [
    {
     "name": "stdout",
     "output_type": "stream",
     "text": [
      "              precision    recall  f1-score   support\n",
      "\n",
      "           0       0.98      0.99      0.99    115177\n",
      "           1       0.97      0.96      0.97     48334\n",
      "\n",
      "    accuracy                           0.98    163511\n",
      "   macro avg       0.98      0.98      0.98    163511\n",
      "weighted avg       0.98      0.98      0.98    163511\n",
      "\n"
     ]
    }
   ],
   "source": [
    "print(classification_report(ytest,pred1))"
   ]
  },
  {
   "cell_type": "markdown",
   "id": "ed80d519-8445-42e2-8d5b-dfdfb916b8cc",
   "metadata": {},
   "source": [
    "### Multinomial Classification¶"
   ]
  },
  {
   "cell_type": "code",
   "execution_count": 107,
   "id": "38d53ff8-fd8e-4752-b0e2-293bee060cbe",
   "metadata": {},
   "outputs": [],
   "source": [
    "X1 = data2.iloc[:,:26] #Spliting the data in X & Y\n",
    "Y1 = data2.loc[:,['target']]"
   ]
  },
  {
   "cell_type": "code",
   "execution_count": 108,
   "id": "09bee9ef-e9bb-4000-a699-6a17bd221b94",
   "metadata": {},
   "outputs": [],
   "source": [
    "sc=StandardScaler()\n",
    "sc=sc.fit(X1)\n",
    "X1 =pd.DataFrame(sc.transform(X1), columns=X1.columns)"
   ]
  },
  {
   "cell_type": "code",
   "execution_count": 109,
   "id": "7445eca7-cd76-4abe-af83-a73b595b2837",
   "metadata": {},
   "outputs": [],
   "source": [
    "xtrain1 , xtest1, ytrain1, ytest1 = train_test_split(X1, Y1,test_size = 0.20)"
   ]
  },
  {
   "cell_type": "code",
   "execution_count": 110,
   "id": "651d12a7-d426-4d92-b8f1-2d49e5b5a82a",
   "metadata": {},
   "outputs": [
    {
     "data": {
      "text/plain": [
       "((654040, 26), (163511, 26), (654040, 1), (163511, 1))"
      ]
     },
     "execution_count": 110,
     "metadata": {},
     "output_type": "execute_result"
    }
   ],
   "source": [
    "xtrain1.shape , xtest1.shape , ytrain1.shape , ytest1.shape "
   ]
  },
  {
   "cell_type": "code",
   "execution_count": 114,
   "id": "ed6af6dd-1e2d-40bb-ac9b-f50480cbf3d2",
   "metadata": {},
   "outputs": [
    {
     "data": {
      "text/html": [
       "<style>#sk-container-id-5 {color: black;background-color: white;}#sk-container-id-5 pre{padding: 0;}#sk-container-id-5 div.sk-toggleable {background-color: white;}#sk-container-id-5 label.sk-toggleable__label {cursor: pointer;display: block;width: 100%;margin-bottom: 0;padding: 0.3em;box-sizing: border-box;text-align: center;}#sk-container-id-5 label.sk-toggleable__label-arrow:before {content: \"▸\";float: left;margin-right: 0.25em;color: #696969;}#sk-container-id-5 label.sk-toggleable__label-arrow:hover:before {color: black;}#sk-container-id-5 div.sk-estimator:hover label.sk-toggleable__label-arrow:before {color: black;}#sk-container-id-5 div.sk-toggleable__content {max-height: 0;max-width: 0;overflow: hidden;text-align: left;background-color: #f0f8ff;}#sk-container-id-5 div.sk-toggleable__content pre {margin: 0.2em;color: black;border-radius: 0.25em;background-color: #f0f8ff;}#sk-container-id-5 input.sk-toggleable__control:checked~div.sk-toggleable__content {max-height: 200px;max-width: 100%;overflow: auto;}#sk-container-id-5 input.sk-toggleable__control:checked~label.sk-toggleable__label-arrow:before {content: \"▾\";}#sk-container-id-5 div.sk-estimator input.sk-toggleable__control:checked~label.sk-toggleable__label {background-color: #d4ebff;}#sk-container-id-5 div.sk-label input.sk-toggleable__control:checked~label.sk-toggleable__label {background-color: #d4ebff;}#sk-container-id-5 input.sk-hidden--visually {border: 0;clip: rect(1px 1px 1px 1px);clip: rect(1px, 1px, 1px, 1px);height: 1px;margin: -1px;overflow: hidden;padding: 0;position: absolute;width: 1px;}#sk-container-id-5 div.sk-estimator {font-family: monospace;background-color: #f0f8ff;border: 1px dotted black;border-radius: 0.25em;box-sizing: border-box;margin-bottom: 0.5em;}#sk-container-id-5 div.sk-estimator:hover {background-color: #d4ebff;}#sk-container-id-5 div.sk-parallel-item::after {content: \"\";width: 100%;border-bottom: 1px solid gray;flex-grow: 1;}#sk-container-id-5 div.sk-label:hover label.sk-toggleable__label {background-color: #d4ebff;}#sk-container-id-5 div.sk-serial::before {content: \"\";position: absolute;border-left: 1px solid gray;box-sizing: border-box;top: 0;bottom: 0;left: 50%;z-index: 0;}#sk-container-id-5 div.sk-serial {display: flex;flex-direction: column;align-items: center;background-color: white;padding-right: 0.2em;padding-left: 0.2em;position: relative;}#sk-container-id-5 div.sk-item {position: relative;z-index: 1;}#sk-container-id-5 div.sk-parallel {display: flex;align-items: stretch;justify-content: center;background-color: white;position: relative;}#sk-container-id-5 div.sk-item::before, #sk-container-id-5 div.sk-parallel-item::before {content: \"\";position: absolute;border-left: 1px solid gray;box-sizing: border-box;top: 0;bottom: 0;left: 50%;z-index: -1;}#sk-container-id-5 div.sk-parallel-item {display: flex;flex-direction: column;z-index: 1;position: relative;background-color: white;}#sk-container-id-5 div.sk-parallel-item:first-child::after {align-self: flex-end;width: 50%;}#sk-container-id-5 div.sk-parallel-item:last-child::after {align-self: flex-start;width: 50%;}#sk-container-id-5 div.sk-parallel-item:only-child::after {width: 0;}#sk-container-id-5 div.sk-dashed-wrapped {border: 1px dashed gray;margin: 0 0.4em 0.5em 0.4em;box-sizing: border-box;padding-bottom: 0.4em;background-color: white;}#sk-container-id-5 div.sk-label label {font-family: monospace;font-weight: bold;display: inline-block;line-height: 1.2em;}#sk-container-id-5 div.sk-label-container {text-align: center;}#sk-container-id-5 div.sk-container {/* jupyter's `normalize.less` sets `[hidden] { display: none; }` but bootstrap.min.css set `[hidden] { display: none !important; }` so we also need the `!important` here to be able to override the default hidden behavior on the sphinx rendered scikit-learn.org. See: https://github.com/scikit-learn/scikit-learn/issues/21755 */display: inline-block !important;position: relative;}#sk-container-id-5 div.sk-text-repr-fallback {display: none;}</style><div id=\"sk-container-id-5\" class=\"sk-top-container\"><div class=\"sk-text-repr-fallback\"><pre>LogisticRegression()</pre><b>In a Jupyter environment, please rerun this cell to show the HTML representation or trust the notebook. <br />On GitHub, the HTML representation is unable to render, please try loading this page with nbviewer.org.</b></div><div class=\"sk-container\" hidden><div class=\"sk-item\"><div class=\"sk-estimator sk-toggleable\"><input class=\"sk-toggleable__control sk-hidden--visually\" id=\"sk-estimator-id-5\" type=\"checkbox\" checked><label for=\"sk-estimator-id-5\" class=\"sk-toggleable__label sk-toggleable__label-arrow\">LogisticRegression</label><div class=\"sk-toggleable__content\"><pre>LogisticRegression()</pre></div></div></div></div></div>"
      ],
      "text/plain": [
       "LogisticRegression()"
      ]
     },
     "execution_count": 114,
     "metadata": {},
     "output_type": "execute_result"
    }
   ],
   "source": [
    "lr = LogisticRegression()\n",
    "lr.fit(xtrain1, ytrain1)"
   ]
  },
  {
   "cell_type": "code",
   "execution_count": 115,
   "id": "abe65657-33b5-413b-be69-3251c97f965a",
   "metadata": {},
   "outputs": [
    {
     "data": {
      "text/plain": [
       "array([6, 6, 6, ..., 6, 6, 4])"
      ]
     },
     "execution_count": 115,
     "metadata": {},
     "output_type": "execute_result"
    }
   ],
   "source": [
    "pred2 = lr.predict(xtest1)\n",
    "pred2"
   ]
  },
  {
   "cell_type": "code",
   "execution_count": 116,
   "id": "6c5f4002-adcd-4fc9-b20e-f95a8abd60b5",
   "metadata": {},
   "outputs": [
    {
     "name": "stdout",
     "output_type": "stream",
     "text": [
      "              precision    recall  f1-score   support\n",
      "\n",
      "           0       0.97      0.96      0.97       198\n",
      "           1       1.00      0.14      0.25         7\n",
      "           2       0.50      0.50      0.50         2\n",
      "           3       0.82      1.00      0.90         9\n",
      "           4       0.99      1.00      1.00     45485\n",
      "           5       0.91      0.78      0.84       305\n",
      "           6       1.00      1.00      1.00    115239\n",
      "           7       0.96      0.88      0.92       593\n",
      "           8       0.00      0.00      0.00         1\n",
      "           9       0.95      0.92      0.94      1063\n",
      "          10       0.98      0.98      0.98       609\n",
      "\n",
      "    accuracy                           1.00    163511\n",
      "   macro avg       0.83      0.74      0.75    163511\n",
      "weighted avg       1.00      1.00      1.00    163511\n",
      "\n"
     ]
    }
   ],
   "source": [
    "print(classification_report(ytest1,pred2))"
   ]
  },
  {
   "cell_type": "code",
   "execution_count": null,
   "id": "57f4a99a-31c2-4ecb-ba83-4c7bdf771b71",
   "metadata": {},
   "outputs": [],
   "source": []
  },
  {
   "cell_type": "code",
   "execution_count": null,
   "id": "42e360d7-7972-4f79-87d9-8b09b9d20edb",
   "metadata": {},
   "outputs": [],
   "source": []
  }
 ],
 "metadata": {
  "kernelspec": {
   "display_name": "Python 3 (ipykernel)",
   "language": "python",
   "name": "python3"
  },
  "language_info": {
   "codemirror_mode": {
    "name": "ipython",
    "version": 3
   },
   "file_extension": ".py",
   "mimetype": "text/x-python",
   "name": "python",
   "nbconvert_exporter": "python",
   "pygments_lexer": "ipython3",
   "version": "3.11.7"
  }
 },
 "nbformat": 4,
 "nbformat_minor": 5
}
